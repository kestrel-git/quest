{
 "cells": [
  {
   "cell_type": "markdown",
   "metadata": {
    "id": "gfJpufStHw2_"
   },
   "source": [
    "# 프로젝트 : Finance Time Series 데이터 활용하기"
   ]
  },
  {
   "cell_type": "code",
   "execution_count": 1,
   "metadata": {
    "id": "ILHGrKf6M7fe"
   },
   "outputs": [],
   "source": [
    "import os\n",
    "import pandas as pd\n",
    "import numpy as np\n",
    "import matplotlib.pyplot as plt\n",
    "from tqdm import tqdm\n",
    "import warnings\n",
    "warnings.filterwarnings('ignore')"
   ]
  },
  {
   "cell_type": "code",
   "execution_count": 2,
   "metadata": {
    "colab": {
     "base_uri": "https://localhost:8080/",
     "height": 478
    },
    "id": "LNazzGmtQcVu",
    "outputId": "56dc21b3-b491-49f2-908e-4860131d2b7d"
   },
   "outputs": [
    {
     "data": {
      "text/plain": [
       "<AxesSubplot:xlabel='time'>"
      ]
     },
     "execution_count": 2,
     "metadata": {},
     "output_type": "execute_result"
    },
    {
     "data": {
      "image/png": "[encoded data removed]",
      "text/plain": [
       "<Figure size 432x288 with 1 Axes>"
      ]
     },
     "metadata": {
      "needs_background": "light"
     },
     "output_type": "display_data"
    }
   ],
   "source": [
    "# 데이터 경로\n",
    "DATA_PATH = '/aiffel/aiffel/fnguide/data/'\n",
    "\n",
    "# 데이터 불러오기\n",
    "modify_data = pd.read_csv(os.path.join(DATA_PATH, 'sub_upbit_eth_min_tick.csv'), index_col=0, parse_dates=True)\n",
    "\n",
    "# 불러온 데이터 시각화하기\n",
    "modify_data.loc['2017-11-01':'2017-12-31','close'].plot()"
   ]
  },
  {
   "cell_type": "code",
   "execution_count": 3,
   "metadata": {
    "colab": {
     "base_uri": "https://localhost:8080/",
     "height": 238
    },
    "id": "DyitViGcRdrD",
    "outputId": "fde6931e-7b70-4972-ae89-331cb15852fb"
   },
   "outputs": [
    {
     "data": {
      "text/html": [
       "<div>\n",
       "<style scoped>\n",
       "    .dataframe tbody tr th:only-of-type {\n",
       "        vertical-align: middle;\n",
       "    }\n",
       "\n",
       "    .dataframe tbody tr th {\n",
       "        vertical-align: top;\n",
       "    }\n",
       "\n",
       "    .dataframe thead th {\n",
       "        text-align: right;\n",
       "    }\n",
       "</style>\n",
       "<table border=\"1\" class=\"dataframe\">\n",
       "  <thead>\n",
       "    <tr style=\"text-align: right;\">\n",
       "      <th></th>\n",
       "      <th>open</th>\n",
       "      <th>high</th>\n",
       "      <th>low</th>\n",
       "      <th>close</th>\n",
       "      <th>volume</th>\n",
       "    </tr>\n",
       "    <tr>\n",
       "      <th>time</th>\n",
       "      <th></th>\n",
       "      <th></th>\n",
       "      <th></th>\n",
       "      <th></th>\n",
       "      <th></th>\n",
       "    </tr>\n",
       "  </thead>\n",
       "  <tbody>\n",
       "    <tr>\n",
       "      <th>2017-09-25 03:00:00</th>\n",
       "      <td>324500</td>\n",
       "      <td>325500</td>\n",
       "      <td>322000</td>\n",
       "      <td>324000</td>\n",
       "      <td>52.477251</td>\n",
       "    </tr>\n",
       "    <tr>\n",
       "      <th>2017-09-25 03:01:00</th>\n",
       "      <td>324000</td>\n",
       "      <td>324000</td>\n",
       "      <td>322500</td>\n",
       "      <td>324000</td>\n",
       "      <td>39.061889</td>\n",
       "    </tr>\n",
       "    <tr>\n",
       "      <th>2017-09-25 03:02:00</th>\n",
       "      <td>322500</td>\n",
       "      <td>324500</td>\n",
       "      <td>322500</td>\n",
       "      <td>324500</td>\n",
       "      <td>12.794000</td>\n",
       "    </tr>\n",
       "    <tr>\n",
       "      <th>2017-09-25 03:05:00</th>\n",
       "      <td>324000</td>\n",
       "      <td>324000</td>\n",
       "      <td>323000</td>\n",
       "      <td>324000</td>\n",
       "      <td>33.365246</td>\n",
       "    </tr>\n",
       "    <tr>\n",
       "      <th>2017-09-25 03:06:00</th>\n",
       "      <td>324000</td>\n",
       "      <td>325000</td>\n",
       "      <td>322500</td>\n",
       "      <td>324000</td>\n",
       "      <td>46.224544</td>\n",
       "    </tr>\n",
       "  </tbody>\n",
       "</table>\n",
       "</div>"
      ],
      "text/plain": [
       "                       open    high     low   close     volume\n",
       "time                                                          \n",
       "2017-09-25 03:00:00  324500  325500  322000  324000  52.477251\n",
       "2017-09-25 03:01:00  324000  324000  322500  324000  39.061889\n",
       "2017-09-25 03:02:00  322500  324500  322500  324500  12.794000\n",
       "2017-09-25 03:05:00  324000  324000  323000  324000  33.365246\n",
       "2017-09-25 03:06:00  324000  325000  322500  324000  46.224544"
      ]
     },
     "execution_count": 3,
     "metadata": {},
     "output_type": "execute_result"
    }
   ],
   "source": [
    "modify_data.head()"
   ]
  },
  {
   "cell_type": "markdown",
   "metadata": {
    "id": "r7KKofWDH6ep"
   },
   "source": [
    "# 1. Data Labeling"
   ]
  },
  {
   "cell_type": "markdown",
   "metadata": {
    "id": "-yAESN3zH-Oo"
   },
   "source": [
    "## 1.A. Price Change Direction"
   ]
  },
  {
   "cell_type": "code",
   "execution_count": 4,
   "metadata": {
    "id": "BW8cX6jiRh3s"
   },
   "outputs": [],
   "source": [
    "# window 지정\n",
    "window = 10\n",
    "\n",
    "# momentum_signal 만들기\n",
    "momentum_signal = np.sign(np.sign(modify_data['close'] - modify_data['close'].shift(window)) + 1)\n",
    "\n",
    "# s_momentum_signal 만들기\n",
    "s_momentum_signal = pd.Series(momentum_signal, index=modify_data.index) # 데이터 활용을 위해 pd.Series를 사용"
   ]
  },
  {
   "cell_type": "code",
   "execution_count": 5,
   "metadata": {
    "colab": {
     "base_uri": "https://localhost:8080/",
     "height": 463
    },
    "id": "G0lghYaUJXzR",
    "outputId": "293642bb-a147-4b9c-f550-8daadde21185"
   },
   "outputs": [
    {
     "data": {
      "text/plain": [
       "<matplotlib.collections.PathCollection at 0x7dc05764eaf0>"
      ]
     },
     "execution_count": 5,
     "metadata": {},
     "output_type": "execute_result"
    },
    {
     "data": {
      "image/png": "[encoded data removed]",
      "text/plain": [
       "<Figure size 720x360 with 1 Axes>"
      ]
     },
     "metadata": {
      "needs_background": "light"
     },
     "output_type": "display_data"
    }
   ],
   "source": [
    "# 기존 데이터 만들기\n",
    "sub_data = modify_data.loc['2017-11-21', 'close'] # loc를 활용하여 2017-11-21부터 close(종가)까지 가져오기\n",
    "\n",
    "# 수식 적용된 데이터 만들기\n",
    "c_sig = s_momentum_signal.loc['2017-11-21'] # loc를 활용하여 2017-11-21의 시간대별 값을 가져오기\n",
    "\n",
    "# 두 데이터의 비교를 위한 색상 바꾸기\n",
    "c_sig['color'] = np.where(c_sig == 1, 'hotpink', 'skyblue')\n",
    "\n",
    "# 시각화하기\n",
    "plt.figure(figsize=(10, 5))\n",
    "plt.scatter(sub_data.index, sub_data, c=c_sig['color'])"
   ]
  },
  {
   "cell_type": "markdown",
   "metadata": {
    "id": "UKEbR9B-Kt5Y"
   },
   "source": [
    "## 1.B. Using Moving Average"
   ]
  },
  {
   "cell_type": "code",
   "execution_count": 6,
   "metadata": {
    "id": "odbc0vwWKxkL"
   },
   "outputs": [],
   "source": [
    "# momentum_signal\n",
    "momentum_signal = np.sign(np.sign(modify_data['close'] - modify_data['close'].rolling(window).mean()) + 1) # modify_data['close'].rolling(window).mean() 활용\n",
    "\n",
    "# s_momentum_signal\n",
    "s_momentum_signal = pd.Series(momentum_signal, index=modify_data.index)"
   ]
  },
  {
   "cell_type": "code",
   "execution_count": 7,
   "metadata": {
    "colab": {
     "base_uri": "https://localhost:8080/",
     "height": 463
    },
    "id": "e0wTmk9cKxhn",
    "outputId": "3506cb86-7185-4c99-a20e-d7d05d5a8fe8"
   },
   "outputs": [
    {
     "data": {
      "text/plain": [
       "<matplotlib.collections.PathCollection at 0x7dc0576fea00>"
      ]
     },
     "execution_count": 7,
     "metadata": {},
     "output_type": "execute_result"
    },
    {
     "data": {
      "image/png": "[encoded data removed]",
      "text/plain": [
       "<Figure size 720x360 with 1 Axes>"
      ]
     },
     "metadata": {
      "needs_background": "light"
     },
     "output_type": "display_data"
    }
   ],
   "source": [
    "# 기존 데이터 만들기\n",
    "sub_data = modify_data.loc['2017-11-21', 'close']\n",
    "\n",
    "# 수식 적용된 데이터 만들기\n",
    "c_sig = s_momentum_signal.loc['2017-11-21']\n",
    "\n",
    "# 두 데이터의 비교를 위한 색상 바꾸기\n",
    "c_sig['color'] = np.where(c_sig == 1, 'hotpink', 'skyblue')\n",
    "\n",
    "# 시각화하기\n",
    "plt.figure(figsize=(10, 5))\n",
    "plt.scatter(sub_data.index, sub_data, c=c_sig['color'])"
   ]
  },
  {
   "cell_type": "markdown",
   "metadata": {
    "id": "EAHGekyML9uD"
   },
   "source": [
    "## 1.C. Local Min-Max"
   ]
  },
  {
   "cell_type": "code",
   "execution_count": 8,
   "metadata": {
    "id": "UTvdL-4EKxff"
   },
   "outputs": [],
   "source": [
    "# Local min / max 를 추출하기 위한 함수\n",
    "def get_local_min_max(close, wait=3):\n",
    "    min_value = close.iloc[0]\n",
    "    max_value = close.iloc[0]\n",
    "    n_cnt_min, n_cnt_max = 0, 0\n",
    "\n",
    "    mins, maxes = [], []\n",
    "    min_idxes, max_idxes = [], []\n",
    "    b_min_update, b_max_update = False, False\n",
    "\n",
    "    for idx, val in zip(close.index[1:], close.values[1:]):\n",
    "        if val < min_value:\n",
    "            min_value = val\n",
    "            mins.append(min_value)\n",
    "            min_idxes.append(idx)\n",
    "            n_cnt_min = 0\n",
    "            b_min_update = True\n",
    "        if val > max_value:\n",
    "            max_value = val\n",
    "            maxes.append(max_value)\n",
    "            max_idxes.append(idx)\n",
    "            n_cnt_max = 0\n",
    "            b_max_update = True\n",
    "\n",
    "        if not b_max_update:\n",
    "            b_min_update = False\n",
    "            n_cnt_min += 1\n",
    "            if n_cnt_min >= wait:\n",
    "                max_value = min_value\n",
    "                n_cnt_min = 0\n",
    "\n",
    "        if not b_min_update:\n",
    "            b_max_update = False\n",
    "            n_cnt_max += 1\n",
    "            if n_cnt_max >= wait:\n",
    "                min_value = max_value\n",
    "                n_cnt_max = 0\n",
    "\n",
    "    return pd.DataFrame.from_dict({'min_time': min_idxes, 'local_min': mins}), \\\n",
    "           pd.DataFrame.from_dict({'max_time': max_idxes, 'local_max': maxes})"
   ]
  },
  {
   "cell_type": "code",
   "execution_count": 9,
   "metadata": {
    "colab": {
     "base_uri": "https://localhost:8080/"
    },
    "id": "Hkf4RQPgKxdK",
    "outputId": "da38dd8b-7fad-47f0-afdf-4b5d749b0b4d"
   },
   "outputs": [
    {
     "name": "stdout",
     "output_type": "stream",
     "text": [
      "               min_time  local_min\n",
      "0   2017-11-21 00:01:00     399050\n",
      "1   2017-11-21 00:03:00     399000\n",
      "2   2017-11-21 00:04:00     398900\n",
      "3   2017-11-21 00:05:00     398850\n",
      "4   2017-11-21 00:06:00     398800\n",
      "..                  ...        ...\n",
      "472 2017-11-21 23:48:00     397850\n",
      "473 2017-11-21 23:50:00     397050\n",
      "474 2017-11-21 23:52:00     396750\n",
      "475 2017-11-21 23:53:00     396350\n",
      "476 2017-11-21 23:59:00     397600\n",
      "\n",
      "[477 rows x 2 columns]\n",
      "----------------------------------------\n",
      "               max_time  local_max\n",
      "0   2017-11-21 00:13:00     399500\n",
      "1   2017-11-21 00:14:00     399900\n",
      "2   2017-11-21 00:16:00     401450\n",
      "3   2017-11-21 00:19:00     401350\n",
      "4   2017-11-21 00:20:00     401500\n",
      "..                  ...        ...\n",
      "268 2017-11-21 23:41:00     398050\n",
      "269 2017-11-21 23:43:00     398400\n",
      "270 2017-11-21 23:46:00     398200\n",
      "271 2017-11-21 23:47:00     398400\n",
      "272 2017-11-21 23:56:00     398050\n",
      "\n",
      "[273 rows x 2 columns]\n"
     ]
    }
   ],
   "source": [
    "# Local mins, maxes를 확인\n",
    "mins, maxes = get_local_min_max(sub_data, wait=3)\n",
    "\n",
    "# mins, maxes 확인\n",
    "print(mins)\n",
    "print('--'*20)\n",
    "print(maxes)"
   ]
  },
  {
   "cell_type": "code",
   "execution_count": 10,
   "metadata": {
    "colab": {
     "base_uri": "https://localhost:8080/",
     "height": 463
    },
    "id": "PqJOEpo0Kxa0",
    "outputId": "e88532b1-a6f9-490c-acef-632871e68546"
   },
   "outputs": [
    {
     "data": {
      "text/plain": [
       "(376546.5, 412585.0)"
      ]
     },
     "execution_count": 10,
     "metadata": {},
     "output_type": "execute_result"
    },
    {
     "data": {
      "image/png": "[encoded data removed]",
      "text/plain": [
       "<Figure size 720x360 with 1 Axes>"
      ]
     },
     "metadata": {
      "needs_background": "light"
     },
     "output_type": "display_data"
    }
   ],
   "source": [
    "# subplots 및 plot 생성\n",
    "fig, ax = plt.subplots(1, 1, figsize=(10, 5))\n",
    "ax.plot(sub_data, 'c')\n",
    "\n",
    "# min_time, local_min을 활용한 scatter plot 생성\n",
    "ax.scatter(mins.min_time, mins.local_min, c='skyblue')\n",
    "\n",
    "# maxes_time, local_max를 활용한 scatter plot 생성\n",
    "ax.scatter(maxes.max_time, maxes.local_max, c='hotpink')\n",
    "\n",
    "# y축 설정\n",
    "ax.set_ylim([sub_data.min() * 0.99, sub_data.max()  * 1.01])"
   ]
  },
  {
   "cell_type": "markdown",
   "metadata": {
    "id": "YV6nnbeYOHQL"
   },
   "source": [
    "## 1.D. Trend Scanning\n",
    "- ols.tvalue를 통해 t-value값을 사용할 수 있는 함수를 활용하여 추세(trend)를 추정"
   ]
  },
  {
   "cell_type": "code",
   "execution_count": 11,
   "metadata": {
    "id": "LcdOV3-vKxYO"
   },
   "outputs": [],
   "source": [
    "def t_val_lin_r(close):\n",
    "    import statsmodels.api as sml\n",
    "\n",
    "    # t-value from a linear trend\n",
    "    x = np.ones((close.shape[0], 2))\n",
    "    x[:, 1] = np.arange(close.shape[0])\n",
    "    ols = sml.OLS(close, x).fit()\n",
    "    return ols.tvalues[1]"
   ]
  },
  {
   "cell_type": "code",
   "execution_count": 12,
   "metadata": {
    "id": "-PSIOFG2KxV3"
   },
   "outputs": [],
   "source": [
    "look_forward_window = 60\n",
    "min_sample_length = 5\n",
    "step = 1\n",
    "t1_array = []\n",
    "t_values_array = []"
   ]
  },
  {
   "cell_type": "code",
   "execution_count": 13,
   "metadata": {
    "colab": {
     "base_uri": "https://localhost:8080/"
    },
    "id": "xpLoCdzjKxTR",
    "outputId": "9777a974-0575-404f-97ae-68bb35d6365e"
   },
   "outputs": [
    {
     "name": "stderr",
     "output_type": "stream",
     "text": [
      "100%|██████████| 33384/33384 [13:15<00:00, 41.95it/s]\n"
     ]
    }
   ],
   "source": [
    "molecule = modify_data['2017-11-01':'2017-11-30'].index\n",
    "label = pd.DataFrame(index=molecule, columns=['t1', 't_val', 'bin'])\n",
    "tmp_out = []\n",
    "\n",
    "for ind in tqdm(molecule):\n",
    "    subset = modify_data.loc[ind:, 'close'].iloc[:look_forward_window]  # 전방 탐색을 위한 샘플 추출\n",
    "    if look_forward_window > subset.shape[0]:\n",
    "        continue\n",
    "\n",
    "    tmp_subset = pd.Series(index=subset.index[min_sample_length-1:subset.shape[0]-1])\n",
    "    tval = []\n",
    "\n",
    "    # 회귀분석을 통해 t 통계량값을 이용하여 추세 추정\n",
    "    for forward_window in np.arange(min_sample_length, subset.shape[0]):\n",
    "        df = subset.iloc[:forward_window]\n",
    "        tval.append(t_val_lin_r(df.values))  # t-value 사용\n",
    "\n",
    "    tmp_subset.loc[tmp_subset.index] = np.array(tval)\n",
    "    idx_max = tmp_subset.replace([-np.inf, np.inf, np.nan], 0).abs().idxmax()\n",
    "    tmp_t_val = tmp_subset[idx_max]\n",
    "    tmp_out.append([tmp_subset.index[-1], tmp_t_val, np.sign(tmp_t_val)])\n",
    "\n",
    "label.loc[molecule] = np.array(tmp_out)  # prevent leakage\n",
    "\n",
    "label['t1'] = pd.to_datetime(label['t1'])\n",
    "label['bin'] = pd.to_numeric(label['bin'], downcast='signed')"
   ]
  },
  {
   "cell_type": "code",
   "execution_count": 14,
   "metadata": {
    "colab": {
     "base_uri": "https://localhost:8080/",
     "height": 463
    },
    "id": "1b4UmQ0NKxQe",
    "outputId": "a94955cc-9cd5-4c7c-998c-9fe6145eb131"
   },
   "outputs": [
    {
     "data": {
      "text/plain": [
       "<matplotlib.collections.PathCollection at 0x7dc0576a4880>"
      ]
     },
     "execution_count": 14,
     "metadata": {},
     "output_type": "execute_result"
    },
    {
     "data": {
      "image/png": "[encoded data removed]",
      "text/plain": [
       "<Figure size 720x360 with 1 Axes>"
      ]
     },
     "metadata": {
      "needs_background": "light"
     },
     "output_type": "display_data"
    }
   ],
   "source": [
    "# 시각화\n",
    "sub_data = modify_data.loc['2017-11-21', 'close']\n",
    "c_sig = label['bin'].loc['2017-11-21']\n",
    "c_sig['color'] = np.where(c_sig == 1, 'hotpink', 'skyblue')\n",
    "\n",
    "fig, ax = plt.subplots(1, 1, figsize=(10, 5))\n",
    "ax.scatter(sub_data.index, sub_data.values, c=c_sig['color'])"
   ]
  },
  {
   "cell_type": "markdown",
   "metadata": {
    "id": "pHMdVIfCPbPX"
   },
   "source": [
    "# 2. Feature Engineering"
   ]
  },
  {
   "cell_type": "code",
   "execution_count": 15,
   "metadata": {
    "colab": {
     "base_uri": "https://localhost:8080/"
    },
    "collapsed": true,
    "id": "bAicpEi7Kf7O",
    "outputId": "a3968070-38f4-4bfc-c059-517219524367"
   },
   "outputs": [
    {
     "name": "stdout",
     "output_type": "stream",
     "text": [
      "Requirement already satisfied: ta==0.9.0 in /opt/conda/lib/python3.9/site-packages (0.9.0)\n",
      "Requirement already satisfied: numpy in /opt/conda/lib/python3.9/site-packages (from ta==0.9.0) (1.21.4)\n",
      "Requirement already satisfied: pandas in /opt/conda/lib/python3.9/site-packages (from ta==0.9.0) (1.3.3)\n",
      "Requirement already satisfied: pytz>=2017.3 in /opt/conda/lib/python3.9/site-packages (from pandas->ta==0.9.0) (2021.3)\n",
      "Requirement already satisfied: python-dateutil>=2.7.3 in /opt/conda/lib/python3.9/site-packages (from pandas->ta==0.9.0) (2.8.2)\n",
      "Requirement already satisfied: six>=1.5 in /opt/conda/lib/python3.9/site-packages (from python-dateutil>=2.7.3->pandas->ta==0.9.0) (1.16.0)\n",
      "\u001b[33mWARNING: Running pip as the 'root' user can result in broken permissions and conflicting behaviour with the system package manager. It is recommended to use a virtual environment instead: https://pip.pypa.io/warnings/venv\u001b[0m\n",
      "Requirement already satisfied: shap in /opt/conda/lib/python3.9/site-packages (0.46.0)\n",
      "Requirement already satisfied: numba in /opt/conda/lib/python3.9/site-packages (from shap) (0.53.1)\n",
      "Requirement already satisfied: scikit-learn in /opt/conda/lib/python3.9/site-packages (from shap) (1.0)\n",
      "Requirement already satisfied: numpy in /opt/conda/lib/python3.9/site-packages (from shap) (1.21.4)\n",
      "Requirement already satisfied: packaging>20.9 in /opt/conda/lib/python3.9/site-packages (from shap) (21.3)\n",
      "Requirement already satisfied: slicer==0.0.8 in /opt/conda/lib/python3.9/site-packages (from shap) (0.0.8)\n",
      "Requirement already satisfied: scipy in /opt/conda/lib/python3.9/site-packages (from shap) (1.7.1)\n",
      "Requirement already satisfied: pandas in /opt/conda/lib/python3.9/site-packages (from shap) (1.3.3)\n",
      "Requirement already satisfied: cloudpickle in /opt/conda/lib/python3.9/site-packages (from shap) (2.0.0)\n",
      "Requirement already satisfied: tqdm>=4.27.0 in /opt/conda/lib/python3.9/site-packages (from shap) (4.62.3)\n",
      "Requirement already satisfied: pyparsing!=3.0.5,>=2.0.2 in /opt/conda/lib/python3.9/site-packages (from packaging>20.9->shap) (3.0.6)\n",
      "Requirement already satisfied: setuptools in /opt/conda/lib/python3.9/site-packages (from numba->shap) (59.4.0)\n",
      "Requirement already satisfied: llvmlite<0.37,>=0.36.0rc1 in /opt/conda/lib/python3.9/site-packages (from numba->shap) (0.36.0)\n",
      "Requirement already satisfied: python-dateutil>=2.7.3 in /opt/conda/lib/python3.9/site-packages (from pandas->shap) (2.8.2)\n",
      "Requirement already satisfied: pytz>=2017.3 in /opt/conda/lib/python3.9/site-packages (from pandas->shap) (2021.3)\n",
      "Requirement already satisfied: joblib>=0.11 in /opt/conda/lib/python3.9/site-packages (from scikit-learn->shap) (1.1.0)\n",
      "Requirement already satisfied: threadpoolctl>=2.0.0 in /opt/conda/lib/python3.9/site-packages (from scikit-learn->shap) (3.0.0)\n",
      "Requirement already satisfied: six>=1.5 in /opt/conda/lib/python3.9/site-packages (from python-dateutil>=2.7.3->pandas->shap) (1.16.0)\n",
      "\u001b[33mWARNING: Running pip as the 'root' user can result in broken permissions and conflicting behaviour with the system package manager. It is recommended to use a virtual environment instead: https://pip.pypa.io/warnings/venv\u001b[0m\n"
     ]
    }
   ],
   "source": [
    "# !pip install ta==0.9.0\n",
    "# !pip install shap"
   ]
  },
  {
   "cell_type": "code",
   "execution_count": 16,
   "metadata": {
    "colab": {
     "base_uri": "https://localhost:8080/",
     "height": 394
    },
    "id": "DKwNxDOcQCuZ",
    "outputId": "326a7896-2867-4c83-c137-d03d3efcbcbc"
   },
   "outputs": [],
   "source": [
    "import datetime\n",
    "import sys\n",
    "import os\n",
    "import re\n",
    "import io\n",
    "import json\n",
    "import numpy as np\n",
    "import pandas as pd\n",
    "import matplotlib.pyplot as plt\n",
    "import ta\n",
    "\n",
    "import sys\n",
    "sys.path.append('/aiffel/aiffel/fnguide/data/')\n",
    "from libs.feature_importance import importance as imp\n",
    "from sklearn.feature_selection import SequentialFeatureSelector, RFECV\n",
    "\n",
    "from sklearn.preprocessing import StandardScaler\n",
    "from sklearn.model_selection import KFold\n",
    "from sklearn.svm import SVC\n",
    "from sklearn.ensemble import RandomForestClassifier, GradientBoostingClassifier"
   ]
  },
  {
   "cell_type": "code",
   "execution_count": 17,
   "metadata": {
    "id": "oIxs3WkwQJNu"
   },
   "outputs": [],
   "source": [
    "# 데이터 경로 설정\n",
    "DATA_PATH = '/aiffel/aiffel/fnguide/data/'\n",
    "anno_file_name = os.path.join(DATA_PATH, 'sub_upbit_eth_min_tick_label.pkl')\n",
    "target_file_name = os.path.join(DATA_PATH, 'sub_upbit_eth_min_tick.csv')\n",
    "\n",
    "# 데이터 불러오기\n",
    "df_modify_data = pd.read_csv(target_file_name, index_col=0, parse_dates=True)\n",
    "df_label_data = pd.read_pickle(anno_file_name)\n",
    "df_sub_modify_data = df_modify_data.loc[df_label_data.index]\n",
    "\n",
    "# 학습 시간 단축을 위해 여기선 편의상 1000개의 데이터만 가져옵니다.\n",
    "df_sub_modify_data = df_sub_modify_data.iloc[:1000]"
   ]
  },
  {
   "cell_type": "markdown",
   "metadata": {
    "id": "A28awLyDPei-"
   },
   "source": [
    "## 2.A. Technical Index"
   ]
  },
  {
   "cell_type": "code",
   "execution_count": 18,
   "metadata": {
    "id": "jCWzJlc5QSqq"
   },
   "outputs": [],
   "source": [
    "# 기술적 지표를 적용합니다.\n",
    "\n",
    "mt = 1\n",
    "fillna = False\n",
    "df_ = df_sub_modify_data.copy()\n",
    "open, high, low, close, volume = 'open', 'high', 'low', 'close', 'volume'\n",
    "cols = [open, high, low, close, volume]\n",
    "\n",
    "## Volume Index\n",
    "# Chaikin Money Flow\n",
    "df_[\"volume_cmf\"] = ta.volume.ChaikinMoneyFlowIndicator(\n",
    "                        high=df_[high], low=df_[low], close=df_[close], volume=df_[volume], window=20*mt, fillna=fillna\n",
    "                    ).chaikin_money_flow()\n",
    "# Force Index\n",
    "df_[\"volume_fi\"] = ta.volume.ForceIndexIndicator(\n",
    "                        close=df_[close], volume=df_[volume], window=15*mt, fillna=fillna\n",
    "                    ).force_index()\n",
    "# Money Flow Indicator\n",
    "df_[\"volume_mfi\"] = ta.volume.MFIIndicator(\n",
    "                        high=df_[high],\n",
    "                        low=df_[low],\n",
    "                        close=df_[close],\n",
    "                        volume=df_[volume],\n",
    "                        window=15*mt,\n",
    "                        fillna=fillna,\n",
    "                    ).money_flow_index()\n",
    "# Ease of Movement\n",
    "df_[\"volume_sma_em\"] = ta.volume.EaseOfMovementIndicator(\n",
    "                            high=df_[high], low=df_[low], volume=df_[volume], window=15*mt, fillna=fillna\n",
    "                        ).sma_ease_of_movement()\n",
    "\n",
    "# Volume Price Trend\n",
    "df_[\"volume_vpt\"] = ta.volume.VolumePriceTrendIndicator(\n",
    "                        close=df_[close], volume=df_[volume], fillna=fillna\n",
    "                    ).volume_price_trend()\n",
    "\n",
    "## volatility index\n",
    "# Average True Range\n",
    "df_[\"volatility_atr\"] = ta.volatility.AverageTrueRange(\n",
    "                            close=df_[close], high=df_[high], low=df_[low], window=10*mt, fillna=fillna\n",
    "                        ).average_true_range()\n",
    "\n",
    "# Ulcer Index\n",
    "df_[\"volatility_ui\"] = ta.volatility.UlcerIndex(\n",
    "                            close=df_[close], window=15*mt, fillna=fillna\n",
    "                        ).ulcer_index()\n",
    "\n",
    "## trend index\n",
    "# MACD\n",
    "df_[\"trend_macd_diff\"] = ta.trend.MACD(\n",
    "                            close=df_[close], window_slow=25*mt, window_fast=10*mt, window_sign=9, fillna=fillna\n",
    "                        ).macd_diff()\n",
    "\n",
    "# Average Directional Movement Index (ADX)\n",
    "df_[\"trend_adx\"] = ta.trend.ADXIndicator(\n",
    "                        high=df_[high], low=df_[low], close=df_[close], window=15*mt, fillna=fillna\n",
    "                    ).adx()\n",
    "\n",
    "# TRIX Indicator\n",
    "df_[\"trend_trix\"] = ta.trend.TRIXIndicator(\n",
    "                        close=df_[close], window=15*mt, fillna=fillna\n",
    "                    ).trix()\n",
    "\n",
    "# Mass Index\n",
    "df_[\"trend_mass_index\"] = ta.trend.MassIndex(\n",
    "                            high=df_[high], low=df_[low], window_fast=10*mt, window_slow=25*mt, fillna=fillna\n",
    "                        ).mass_index()\n",
    "\n",
    "# DPO Indicator\n",
    "df_[\"trend_dpo\"] = ta.trend.DPOIndicator(\n",
    "                        close=df_[close], window=20*mt, fillna=fillna\n",
    "                    ).dpo()\n",
    "\n",
    "# Aroon Indicator\n",
    "df_[\"trend_aroon_ind\"] = ta.trend.AroonIndicator(close=df_[close], window=20, fillna=fillna).aroon_indicator()\n",
    "\n",
    "## momentum index\n",
    "# Relative Strength Index (RSI)\n",
    "df_[\"momentum_rsi\"] = ta.momentum.RSIIndicator(close=df_[close], window=15*mt, fillna=fillna).rsi()\n",
    "\n",
    "# Williams R Indicator\n",
    "df_[\"momentum_wr\"] = ta.momentum.WilliamsRIndicator(\n",
    "                        high=df_[high], low=df_[low], close=df_[close], lbp=15*mt, fillna=fillna\n",
    "                    ).williams_r()"
   ]
  },
  {
   "cell_type": "code",
   "execution_count": 19,
   "metadata": {
    "id": "28SypOTXQSoV"
   },
   "outputs": [],
   "source": [
    "# 수익률 / 변동성 지표를 적용합니다.\n",
    "windows_mom = [5, 10, 20]\n",
    "windows_std = [30]\n",
    "\n",
    "for i in windows_mom:\n",
    "    df_[f'vol_change_{i}'] = df_.volume.pct_change(i).round(6)\n",
    "    df_[f'ret_{i}'] = df_.close.pct_change(i).round(6)\n",
    "\n",
    "for i in windows_std:\n",
    "    df_[f'std_{i}'] = df_.close.rolling(i).std()\n",
    "    df_[f'vol_std_{i}'] = df_.volume.rolling(i).std()"
   ]
  },
  {
   "cell_type": "code",
   "execution_count": 20,
   "metadata": {
    "id": "f-y7CEX_QSlt"
   },
   "outputs": [],
   "source": [
    "df_tmp_data = df_.join(df_label_data).dropna()\n",
    "\n",
    "# X, y 데이터셋 만들기\n",
    "X = df_tmp_data.iloc[:, 5:-1]\n",
    "y = df_tmp_data.iloc[:, -1]\n",
    "\n",
    "# StandardScaler 적용\n",
    "sc = StandardScaler()\n",
    "\n",
    "# fit_transform 사용\n",
    "X_sc = sc.fit_transform(X)\n",
    "\n",
    "# DataFrame 변환\n",
    "X_sc = pd.DataFrame(X_sc, index=X.index, columns=X.columns)"
   ]
  },
  {
   "cell_type": "code",
   "execution_count": 21,
   "metadata": {
    "id": "HH2vTm8bQSjK"
   },
   "outputs": [
    {
     "data": {
      "text/plain": [
       "RandomForestClassifier(class_weight='balanced')"
      ]
     },
     "execution_count": 21,
     "metadata": {},
     "output_type": "execute_result"
    }
   ],
   "source": [
    "# RandomForest 모델 적용\n",
    "rfc = RandomForestClassifier(class_weight='balanced')\n",
    "\n",
    "# RandomForest fit 하기\n",
    "rfc.fit(X_sc, y)"
   ]
  },
  {
   "cell_type": "markdown",
   "metadata": {
    "id": "V_WqCuFiRRda"
   },
   "source": [
    "## 2.B. Feature Selection methods"
   ]
  },
  {
   "cell_type": "markdown",
   "metadata": {
    "id": "FwPyTkLWRWg0"
   },
   "source": [
    "### 2.B.a. MDI (Mean Decrease Impurity)"
   ]
  },
  {
   "cell_type": "code",
   "execution_count": 22,
   "metadata": {
    "id": "hixMQNeSQSg0"
   },
   "outputs": [
    {
     "data": {
      "text/html": [
       "<div>\n",
       "<style scoped>\n",
       "    .dataframe tbody tr th:only-of-type {\n",
       "        vertical-align: middle;\n",
       "    }\n",
       "\n",
       "    .dataframe tbody tr th {\n",
       "        vertical-align: top;\n",
       "    }\n",
       "\n",
       "    .dataframe thead th {\n",
       "        text-align: right;\n",
       "    }\n",
       "</style>\n",
       "<table border=\"1\" class=\"dataframe\">\n",
       "  <thead>\n",
       "    <tr style=\"text-align: right;\">\n",
       "      <th></th>\n",
       "      <th>mean</th>\n",
       "      <th>std</th>\n",
       "    </tr>\n",
       "  </thead>\n",
       "  <tbody>\n",
       "    <tr>\n",
       "      <th>volume_cmf</th>\n",
       "      <td>0.047802</td>\n",
       "      <td>0.002299</td>\n",
       "    </tr>\n",
       "    <tr>\n",
       "      <th>volume_fi</th>\n",
       "      <td>0.038636</td>\n",
       "      <td>0.002136</td>\n",
       "    </tr>\n",
       "    <tr>\n",
       "      <th>volume_mfi</th>\n",
       "      <td>0.046450</td>\n",
       "      <td>0.002729</td>\n",
       "    </tr>\n",
       "    <tr>\n",
       "      <th>volume_sma_em</th>\n",
       "      <td>0.038501</td>\n",
       "      <td>0.002001</td>\n",
       "    </tr>\n",
       "    <tr>\n",
       "      <th>volume_vpt</th>\n",
       "      <td>0.025561</td>\n",
       "      <td>0.001551</td>\n",
       "    </tr>\n",
       "    <tr>\n",
       "      <th>volatility_atr</th>\n",
       "      <td>0.077014</td>\n",
       "      <td>0.003325</td>\n",
       "    </tr>\n",
       "    <tr>\n",
       "      <th>volatility_ui</th>\n",
       "      <td>0.049066</td>\n",
       "      <td>0.002307</td>\n",
       "    </tr>\n",
       "    <tr>\n",
       "      <th>trend_macd_diff</th>\n",
       "      <td>0.081443</td>\n",
       "      <td>0.003685</td>\n",
       "    </tr>\n",
       "    <tr>\n",
       "      <th>trend_adx</th>\n",
       "      <td>0.052899</td>\n",
       "      <td>0.002495</td>\n",
       "    </tr>\n",
       "    <tr>\n",
       "      <th>trend_trix</th>\n",
       "      <td>0.069209</td>\n",
       "      <td>0.003053</td>\n",
       "    </tr>\n",
       "    <tr>\n",
       "      <th>trend_mass_index</th>\n",
       "      <td>0.070443</td>\n",
       "      <td>0.002589</td>\n",
       "    </tr>\n",
       "    <tr>\n",
       "      <th>trend_dpo</th>\n",
       "      <td>0.021168</td>\n",
       "      <td>0.001377</td>\n",
       "    </tr>\n",
       "    <tr>\n",
       "      <th>trend_aroon_ind</th>\n",
       "      <td>0.033563</td>\n",
       "      <td>0.001698</td>\n",
       "    </tr>\n",
       "    <tr>\n",
       "      <th>momentum_rsi</th>\n",
       "      <td>0.031133</td>\n",
       "      <td>0.002061</td>\n",
       "    </tr>\n",
       "    <tr>\n",
       "      <th>momentum_wr</th>\n",
       "      <td>0.024338</td>\n",
       "      <td>0.001960</td>\n",
       "    </tr>\n",
       "    <tr>\n",
       "      <th>vol_change_5</th>\n",
       "      <td>0.016829</td>\n",
       "      <td>0.000916</td>\n",
       "    </tr>\n",
       "    <tr>\n",
       "      <th>ret_5</th>\n",
       "      <td>0.035067</td>\n",
       "      <td>0.002293</td>\n",
       "    </tr>\n",
       "    <tr>\n",
       "      <th>vol_change_10</th>\n",
       "      <td>0.015577</td>\n",
       "      <td>0.001012</td>\n",
       "    </tr>\n",
       "    <tr>\n",
       "      <th>ret_10</th>\n",
       "      <td>0.051793</td>\n",
       "      <td>0.003307</td>\n",
       "    </tr>\n",
       "    <tr>\n",
       "      <th>vol_change_20</th>\n",
       "      <td>0.016125</td>\n",
       "      <td>0.000969</td>\n",
       "    </tr>\n",
       "    <tr>\n",
       "      <th>ret_20</th>\n",
       "      <td>0.040643</td>\n",
       "      <td>0.002612</td>\n",
       "    </tr>\n",
       "    <tr>\n",
       "      <th>std_30</th>\n",
       "      <td>0.049864</td>\n",
       "      <td>0.002170</td>\n",
       "    </tr>\n",
       "    <tr>\n",
       "      <th>vol_std_30</th>\n",
       "      <td>0.066876</td>\n",
       "      <td>0.002663</td>\n",
       "    </tr>\n",
       "  </tbody>\n",
       "</table>\n",
       "</div>"
      ],
      "text/plain": [
       "                      mean       std\n",
       "volume_cmf        0.047802  0.002299\n",
       "volume_fi         0.038636  0.002136\n",
       "volume_mfi        0.046450  0.002729\n",
       "volume_sma_em     0.038501  0.002001\n",
       "volume_vpt        0.025561  0.001551\n",
       "volatility_atr    0.077014  0.003325\n",
       "volatility_ui     0.049066  0.002307\n",
       "trend_macd_diff   0.081443  0.003685\n",
       "trend_adx         0.052899  0.002495\n",
       "trend_trix        0.069209  0.003053\n",
       "trend_mass_index  0.070443  0.002589\n",
       "trend_dpo         0.021168  0.001377\n",
       "trend_aroon_ind   0.033563  0.001698\n",
       "momentum_rsi      0.031133  0.002061\n",
       "momentum_wr       0.024338  0.001960\n",
       "vol_change_5      0.016829  0.000916\n",
       "ret_5             0.035067  0.002293\n",
       "vol_change_10     0.015577  0.001012\n",
       "ret_10            0.051793  0.003307\n",
       "vol_change_20     0.016125  0.000969\n",
       "ret_20            0.040643  0.002612\n",
       "std_30            0.049864  0.002170\n",
       "vol_std_30        0.066876  0.002663"
      ]
     },
     "execution_count": 22,
     "metadata": {},
     "output_type": "execute_result"
    }
   ],
   "source": [
    "# MDI, Mean Decrease Impurity\n",
    "feat_imp = imp.mean_decrease_impurity(rfc, X.columns)\n",
    "feat_imp"
   ]
  },
  {
   "cell_type": "markdown",
   "metadata": {
    "id": "NDIv6phtRbog"
   },
   "source": [
    "### 2.B.b. MDA (Mean Decrease Accuracy)"
   ]
  },
  {
   "cell_type": "code",
   "execution_count": 23,
   "metadata": {
    "id": "DbtmT9jVQSd_"
   },
   "outputs": [],
   "source": [
    "# MDA, Mean Decrease Accuracy\n",
    "svc_rbf = SVC(kernel='rbf', probability=True) # Tree 및 Support Vector Machine 외에 다른 분류기(classifier)를 사용해봅시다.\n",
    "cv = KFold(n_splits=5) # n_splits을 변경해봅시다.\n",
    "feat_imp_mda = imp.mean_decrease_accuracy(svc_rbf, X_sc, y, cv_gen=cv)"
   ]
  },
  {
   "cell_type": "code",
   "execution_count": 24,
   "metadata": {
    "id": "bK2adTd8RnHC"
   },
   "outputs": [],
   "source": [
    "# plot_feature_importance 함수 만들기\n",
    "def plot_feature_importance(importance_df, save_fig=False, output_path=None):\n",
    "    # Plot mean imp bars with std\n",
    "    plt.figure(figsize=(10, importance_df.shape[0] / 5))\n",
    "    importance_df.sort_values('mean', ascending=True, inplace=True)\n",
    "    importance_df['mean'].plot(kind='barh', color='b', alpha=0.25, xerr=importance_df['std'], error_kw={'ecolor': 'r'})\n",
    "    if save_fig:\n",
    "        plt.savefig(output_path)\n",
    "    else:\n",
    "        plt.show()"
   ]
  },
  {
   "cell_type": "code",
   "execution_count": 25,
   "metadata": {
    "id": "WgR0coSJRsjK"
   },
   "outputs": [
    {
     "data": {
      "image/png": "[encoded data removed]",
      "text/plain": [
       "<Figure size 720x331.2 with 1 Axes>"
      ]
     },
     "metadata": {
      "needs_background": "light"
     },
     "output_type": "display_data"
    },
    {
     "data": {
      "image/png": "[encoded data removed]",
      "text/plain": [
       "<Figure size 720x331.2 with 1 Axes>"
      ]
     },
     "metadata": {
      "needs_background": "light"
     },
     "output_type": "display_data"
    }
   ],
   "source": [
    "# feat_imp 확인\n",
    "plot_feature_importance(feat_imp)\n",
    "\n",
    "# feat_imp_mda 확인\n",
    "plot_feature_importance(feat_imp_mda)"
   ]
  },
  {
   "cell_type": "markdown",
   "metadata": {
    "id": "RLAoXg4BRg0m"
   },
   "source": [
    "### 2.B.c. RFE CV (Recursive Feature Elimination)"
   ]
  },
  {
   "cell_type": "code",
   "execution_count": 26,
   "metadata": {
    "id": "9CpPky1xQSbb"
   },
   "outputs": [],
   "source": [
    "# RFE CV, Recursive Feature Elimination\n",
    "svc_rbf = SVC(kernel='linear', probability=True)\n",
    "rfe_cv = RFECV(svc_rbf, cv=cv)\n",
    "rfe_fitted = rfe_cv.fit(X_sc, y)"
   ]
  },
  {
   "cell_type": "code",
   "execution_count": 27,
   "metadata": {
    "id": "UxGWQmLbQSZF"
   },
   "outputs": [
    {
     "data": {
      "text/html": [
       "<div>\n",
       "<style scoped>\n",
       "    .dataframe tbody tr th:only-of-type {\n",
       "        vertical-align: middle;\n",
       "    }\n",
       "\n",
       "    .dataframe tbody tr th {\n",
       "        vertical-align: top;\n",
       "    }\n",
       "\n",
       "    .dataframe thead th {\n",
       "        text-align: right;\n",
       "    }\n",
       "</style>\n",
       "<table border=\"1\" class=\"dataframe\">\n",
       "  <thead>\n",
       "    <tr style=\"text-align: right;\">\n",
       "      <th></th>\n",
       "      <th>Optimal_Features</th>\n",
       "      <th>Ranking</th>\n",
       "    </tr>\n",
       "  </thead>\n",
       "  <tbody>\n",
       "    <tr>\n",
       "      <th>volume_cmf</th>\n",
       "      <td>False</td>\n",
       "      <td>12</td>\n",
       "    </tr>\n",
       "    <tr>\n",
       "      <th>volume_fi</th>\n",
       "      <td>False</td>\n",
       "      <td>4</td>\n",
       "    </tr>\n",
       "    <tr>\n",
       "      <th>volume_mfi</th>\n",
       "      <td>False</td>\n",
       "      <td>14</td>\n",
       "    </tr>\n",
       "    <tr>\n",
       "      <th>volume_sma_em</th>\n",
       "      <td>False</td>\n",
       "      <td>7</td>\n",
       "    </tr>\n",
       "    <tr>\n",
       "      <th>volume_vpt</th>\n",
       "      <td>False</td>\n",
       "      <td>8</td>\n",
       "    </tr>\n",
       "    <tr>\n",
       "      <th>volatility_atr</th>\n",
       "      <td>True</td>\n",
       "      <td>1</td>\n",
       "    </tr>\n",
       "    <tr>\n",
       "      <th>volatility_ui</th>\n",
       "      <td>False</td>\n",
       "      <td>11</td>\n",
       "    </tr>\n",
       "    <tr>\n",
       "      <th>trend_macd_diff</th>\n",
       "      <td>True</td>\n",
       "      <td>1</td>\n",
       "    </tr>\n",
       "    <tr>\n",
       "      <th>trend_adx</th>\n",
       "      <td>False</td>\n",
       "      <td>19</td>\n",
       "    </tr>\n",
       "    <tr>\n",
       "      <th>trend_trix</th>\n",
       "      <td>False</td>\n",
       "      <td>10</td>\n",
       "    </tr>\n",
       "    <tr>\n",
       "      <th>trend_mass_index</th>\n",
       "      <td>False</td>\n",
       "      <td>13</td>\n",
       "    </tr>\n",
       "    <tr>\n",
       "      <th>trend_dpo</th>\n",
       "      <td>False</td>\n",
       "      <td>16</td>\n",
       "    </tr>\n",
       "    <tr>\n",
       "      <th>trend_aroon_ind</th>\n",
       "      <td>False</td>\n",
       "      <td>5</td>\n",
       "    </tr>\n",
       "    <tr>\n",
       "      <th>momentum_rsi</th>\n",
       "      <td>False</td>\n",
       "      <td>2</td>\n",
       "    </tr>\n",
       "    <tr>\n",
       "      <th>momentum_wr</th>\n",
       "      <td>False</td>\n",
       "      <td>3</td>\n",
       "    </tr>\n",
       "    <tr>\n",
       "      <th>vol_change_5</th>\n",
       "      <td>False</td>\n",
       "      <td>20</td>\n",
       "    </tr>\n",
       "    <tr>\n",
       "      <th>ret_5</th>\n",
       "      <td>False</td>\n",
       "      <td>18</td>\n",
       "    </tr>\n",
       "    <tr>\n",
       "      <th>vol_change_10</th>\n",
       "      <td>False</td>\n",
       "      <td>21</td>\n",
       "    </tr>\n",
       "    <tr>\n",
       "      <th>ret_10</th>\n",
       "      <td>False</td>\n",
       "      <td>17</td>\n",
       "    </tr>\n",
       "    <tr>\n",
       "      <th>vol_change_20</th>\n",
       "      <td>False</td>\n",
       "      <td>15</td>\n",
       "    </tr>\n",
       "    <tr>\n",
       "      <th>ret_20</th>\n",
       "      <td>False</td>\n",
       "      <td>6</td>\n",
       "    </tr>\n",
       "    <tr>\n",
       "      <th>std_30</th>\n",
       "      <td>True</td>\n",
       "      <td>1</td>\n",
       "    </tr>\n",
       "    <tr>\n",
       "      <th>vol_std_30</th>\n",
       "      <td>False</td>\n",
       "      <td>9</td>\n",
       "    </tr>\n",
       "  </tbody>\n",
       "</table>\n",
       "</div>"
      ],
      "text/plain": [
       "                 Optimal_Features Ranking\n",
       "volume_cmf                  False      12\n",
       "volume_fi                   False       4\n",
       "volume_mfi                  False      14\n",
       "volume_sma_em               False       7\n",
       "volume_vpt                  False       8\n",
       "volatility_atr               True       1\n",
       "volatility_ui               False      11\n",
       "trend_macd_diff              True       1\n",
       "trend_adx                   False      19\n",
       "trend_trix                  False      10\n",
       "trend_mass_index            False      13\n",
       "trend_dpo                   False      16\n",
       "trend_aroon_ind             False       5\n",
       "momentum_rsi                False       2\n",
       "momentum_wr                 False       3\n",
       "vol_change_5                False      20\n",
       "ret_5                       False      18\n",
       "vol_change_10               False      21\n",
       "ret_10                      False      17\n",
       "vol_change_20               False      15\n",
       "ret_20                      False       6\n",
       "std_30                       True       1\n",
       "vol_std_30                  False       9"
      ]
     },
     "execution_count": 27,
     "metadata": {},
     "output_type": "execute_result"
    }
   ],
   "source": [
    "# 선택된 피쳐 확인하기\n",
    "\n",
    "rfe_df = pd.DataFrame([rfe_fitted.support_, rfe_fitted.ranking_], columns=X_sc.columns).T.rename(columns={0:\"Optimal_Features\", 1:\"Ranking\"})\n",
    "rfe_df"
   ]
  },
  {
   "cell_type": "markdown",
   "metadata": {
    "id": "Vco0WCnNTp9p"
   },
   "source": [
    "### 2.B.d. SFS (Sequential Feature Selection)"
   ]
  },
  {
   "cell_type": "code",
   "execution_count": 28,
   "metadata": {
    "id": "JzqQINgAQSWf"
   },
   "outputs": [],
   "source": [
    "# SFS, Sequential Feature Selection\n",
    "\n",
    "n = 2\n",
    "sfs_forward = SequentialFeatureSelector(svc_rbf, n_features_to_select=n, direction='forward')\n",
    "sfs_fitted = sfs_forward.fit(X_sc, y)"
   ]
  },
  {
   "cell_type": "code",
   "execution_count": 29,
   "metadata": {
    "id": "XtaBWOJ2QSUK"
   },
   "outputs": [
    {
     "data": {
      "text/plain": [
       "Index(['volume_mfi', 'trend_macd_diff'], dtype='object')"
      ]
     },
     "execution_count": 29,
     "metadata": {},
     "output_type": "execute_result"
    }
   ],
   "source": [
    "sfs_rank = sfs_fitted.get_support()\n",
    "sfs_df = pd.DataFrame(sfs_rank, index=X_sc.columns, columns={\"Optimal_Features\"})\n",
    "\n",
    "sfs_df[sfs_df[\"Optimal_Features\"]==True].index"
   ]
  },
  {
   "cell_type": "markdown",
   "metadata": {
    "id": "lOqspd68UNUy"
   },
   "source": [
    "### 2.B.e. SHAP (Shapley Additive explanations)"
   ]
  },
  {
   "cell_type": "code",
   "execution_count": 30,
   "metadata": {
    "id": "Z-H_cYYwQSRV"
   },
   "outputs": [
    {
     "data": {
      "image/png": "[encoded data removed]",
      "text/plain": [
       "<Figure size 828x475.2 with 3 Axes>"
      ]
     },
     "metadata": {
      "needs_background": "light"
     },
     "output_type": "display_data"
    }
   ],
   "source": [
    "# Q. 코드를 작성해주세요\n",
    "\n",
    "# SHAP, Shapley Additive explanations\n",
    "import shap\n",
    "explainer = shap.TreeExplainer(rfc)\n",
    "shap_value = explainer.shap_values(X_sc)\n",
    "\n",
    "# shap_value, X_sc 사용 shap.summary_plot 그리기\n",
    "shap.summary_plot(shap_value, X_sc)"
   ]
  },
  {
   "cell_type": "markdown",
   "metadata": {},
   "source": [
    "# 3. Model Training"
   ]
  },
  {
   "cell_type": "markdown",
   "metadata": {
    "id": "QpStG3QdQSOz"
   },
   "source": [
    "## 3.A. 환경구성 및 데이터 불러오기"
   ]
  },
  {
   "cell_type": "code",
   "execution_count": 76,
   "metadata": {
    "id": "TkmRBtntQSL-"
   },
   "outputs": [],
   "source": [
    "import datetime\n",
    "import sys\n",
    "import os\n",
    "import re\n",
    "import io\n",
    "import json\n",
    "import numpy as np\n",
    "import pandas as pd\n",
    "import matplotlib.pyplot as plt\n",
    "import ta\n",
    "\n",
    "from sklearn.preprocessing import StandardScaler\n",
    "from sklearn.model_selection import GridSearchCV, KFold, cross_val_score\n",
    "from sklearn.ensemble import RandomForestClassifier, BaggingClassifier\n",
    "from sklearn.metrics import accuracy_score, precision_score, recall_score, confusion_matrix, f1_score, roc_auc_score, roc_curve, classification_report\n",
    "\n",
    "sys.path.append('/aiffel/aiffel/fnguide/data/')\n",
    "from libs.mlutil.pkfold import PKFold"
   ]
  },
  {
   "cell_type": "code",
   "execution_count": 61,
   "metadata": {
    "id": "i3s5ORj2QSDs"
   },
   "outputs": [],
   "source": [
    "# 데이터 경로 설정 및 pickle 파일 불러오기\n",
    "DATA_PATH = '/aiffel/aiffel/fnguide/data/'\n",
    "data_file_name = os.path.join(DATA_PATH, 'sub_upbit_eth_min_feature_labels.pkl')\n",
    "df_data = pd.read_pickle(data_file_name)\n",
    "df_data['t_value'] = df_data['t_value'].apply(lambda x: x if x == 1 else 0)\n",
    "\n",
    "# 여기서부터 모델에 적용하기 위한 데이터 정제화를 시작합니다.\n",
    "df_data['t_value'].value_counts()\n",
    "\n",
    "# 데이터셋 비율 나누기\n",
    "train_ratio, test_ratio = 0.7, 0.2\n",
    "n_train = int(np.round(len(df_data) * train_ratio))\n",
    "n_test = int(np.round(len(df_data) * test_ratio))\n",
    "\n",
    "X, y = df_data.iloc[:, 5:-1], df_data.iloc[:, -1]\n",
    "\n",
    "# standardzation\n",
    "sc = StandardScaler()\n",
    "X_sc = sc.fit_transform(X)\n",
    "\n",
    "# 데이터셋 분리\n",
    "train_x, test_x, train_y, test_y = X_sc[:n_train, :], X_sc[-n_test:, :], y.iloc[:n_train], y.iloc[-n_test:]\n",
    "\n",
    "train_x = pd.DataFrame(train_x, index=train_y.index, columns=X.columns)\n",
    "train_y = pd.Series(train_y, index=train_y.index)\n",
    "test_x = pd.DataFrame(test_x, index=test_y.index, columns=X.columns)\n",
    "test_y = pd.Series(test_y, index=test_y.index)\n",
    "\n",
    "# 학습 시간 단축을 위해 여기선 편의상 1000개의 데이터만 가져옵니다.\n",
    "train_x = train_x[:1000] # 데이터셋을 증가 혹은 감소시켜 결과를 비교해봅시다.\n",
    "train_y = train_y[:1000]"
   ]
  },
  {
   "cell_type": "markdown",
   "metadata": {},
   "source": [
    "## 3.B. Purged K-fold for Cross-Validation"
   ]
  },
  {
   "cell_type": "code",
   "execution_count": 62,
   "metadata": {},
   "outputs": [],
   "source": [
    "n_cv = 4\n",
    "t1 = pd.Series(train_y.index.values, index=train_y.index)\n",
    "\n",
    "# purged K-Fold \n",
    "cv = PKFold(n_cv, t1, 0)"
   ]
  },
  {
   "cell_type": "code",
   "execution_count": 63,
   "metadata": {},
   "outputs": [],
   "source": [
    "# GridsearchCV에서 사용할 파라미터 설정\n",
    "bc_params = {'n_estimators': [5, 10, 20],\n",
    "             'max_features': [0.5, 0.7],\n",
    "             'base_estimator__max_depth': [3,5,10,20],\n",
    "             'base_estimator__max_features': [None, 'auto'],\n",
    "             'base_estimator__min_samples_leaf': [3, 5, 10],\n",
    "             'bootstrap_features': [False, True]\n",
    "            }"
   ]
  },
  {
   "cell_type": "code",
   "execution_count": 64,
   "metadata": {},
   "outputs": [],
   "source": [
    "# RandomForest 사용\n",
    "rfc = RandomForestClassifier(class_weight='balanced')"
   ]
  },
  {
   "cell_type": "code",
   "execution_count": 65,
   "metadata": {},
   "outputs": [],
   "source": [
    "# Bagging 적용\n",
    "bag_rfc = BaggingClassifier(rfc)"
   ]
  },
  {
   "cell_type": "code",
   "execution_count": 66,
   "metadata": {},
   "outputs": [],
   "source": [
    "# GridSearchCV 적용\n",
    "gs_rfc = GridSearchCV(bag_rfc, bc_params, cv=cv, n_jobs=-1, verbose=1)"
   ]
  },
  {
   "cell_type": "code",
   "execution_count": 67,
   "metadata": {},
   "outputs": [
    {
     "name": "stdout",
     "output_type": "stream",
     "text": [
      "Fitting 4 folds for each of 288 candidates, totalling 1152 fits\n"
     ]
    },
    {
     "data": {
      "text/plain": [
       "GridSearchCV(cv=PKFold(n_splits=4, pct_embargo=0,\n",
       "    samples_info_sets=time\n",
       "2018-01-01 00:43:00   2018-01-01 00:43:00\n",
       "2018-01-01 00:44:00   2018-01-01 00:44:00\n",
       "2018-01-01 00:45:00   2018-01-01 00:45:00\n",
       "2018-01-01 00:46:00   2018-01-01 00:46:00\n",
       "2018-01-01 00:47:00   2018-01-01 00:47:00\n",
       "                              ...\n",
       "2018-01-01 11:48:00   201...0   2018-01-01 11:51:00\n",
       "2018-01-01 11:52:00   2018-01-01 11:52:00\n",
       "Length: 670, dtype: datetime64[ns]),\n",
       "             estimator=BaggingClassifier(base_estimator=RandomForestClassifier(class_weight='balanced')),\n",
       "             n_jobs=-1,\n",
       "             param_grid={'base_estimator__max_depth': [3, 5, 10, 20],\n",
       "                         'base_estimator__max_features': [None, 'auto'],\n",
       "                         'base_estimator__min_samples_leaf': [3, 5, 10],\n",
       "                         'bootstrap_features': [False, True],\n",
       "                         'max_features': [0.5, 0.7],\n",
       "                         'n_estimators': [5, 10, 20]},\n",
       "             verbose=1)"
      ]
     },
     "execution_count": 67,
     "metadata": {},
     "output_type": "execute_result"
    }
   ],
   "source": [
    "# fit\n",
    "gs_rfc.fit(train_x, train_y)"
   ]
  },
  {
   "cell_type": "code",
   "execution_count": 68,
   "metadata": {},
   "outputs": [
    {
     "data": {
      "text/plain": [
       "BaggingClassifier(base_estimator=RandomForestClassifier(class_weight='balanced',\n",
       "                                                        max_depth=5,\n",
       "                                                        max_features=None,\n",
       "                                                        min_samples_leaf=10),\n",
       "                  bootstrap_features=True, max_features=0.5, n_estimators=5)"
      ]
     },
     "execution_count": 68,
     "metadata": {},
     "output_type": "execute_result"
    }
   ],
   "source": [
    "# best estimator \n",
    "gs_rfc_best = gs_rfc.best_estimator_\n",
    "gs_rfc_best.fit(train_x, train_y)"
   ]
  },
  {
   "cell_type": "code",
   "execution_count": 69,
   "metadata": {},
   "outputs": [],
   "source": [
    "# 예측값 확인\n",
    "pred_y = gs_rfc_best.predict(test_x)\n",
    "prob_y = gs_rfc_best.predict_proba(test_x)"
   ]
  },
  {
   "cell_type": "code",
   "execution_count": 70,
   "metadata": {},
   "outputs": [
    {
     "name": "stdout",
     "output_type": "stream",
     "text": [
      "================= confusion matrix ====================\n",
      "[[77 59]\n",
      " [11 44]]\n",
      "=======================================================\n",
      "정확도:0.6335078534031413, 정밀도:0.42718446601941745, 재현율:0.8\n"
     ]
    }
   ],
   "source": [
    "# test_y, pred_y를 활용한 지표 적용\n",
    "confusion = confusion_matrix(test_y, pred_y)\n",
    "accuracy  = accuracy_score(test_y, pred_y)\n",
    "precision = precision_score(test_y, pred_y)\n",
    "recall    = recall_score(test_y, pred_y)\n",
    "\n",
    "# 지표를 통한 결과 확인\n",
    "print('================= confusion matrix ====================')\n",
    "print(confusion)\n",
    "print('=======================================================')\n",
    "print(f'정확도:{accuracy}, 정밀도:{precision}, 재현율:{recall}')"
   ]
  },
  {
   "cell_type": "code",
   "execution_count": 71,
   "metadata": {},
   "outputs": [
    {
     "name": "stdout",
     "output_type": "stream",
     "text": [
      "auc:0.6830882352941177\n"
     ]
    },
    {
     "data": {
      "image/png": "[encoded data removed]",
      "text/plain": [
       "<Figure size 432x288 with 1 Axes>"
      ]
     },
     "metadata": {
      "needs_background": "light"
     },
     "output_type": "display_data"
    }
   ],
   "source": [
    "# ROC curve 만들기\n",
    "fpr, tpr, thresholds = roc_curve(test_y, pred_y)\n",
    "auc = roc_auc_score(test_y, pred_y)\n",
    "\n",
    "# ROC curve 시각화\n",
    "plt.plot(fpr, tpr, linewidth=2)\n",
    "plt.plot([0, 1], [0, 1], 'k--') # dashed diagonal\n",
    "plt.xlabel('fpr')\n",
    "plt.ylabel('tpr')\n",
    "print(f'auc:{auc}')"
   ]
  },
  {
   "cell_type": "code",
   "execution_count": 79,
   "metadata": {
    "scrolled": false
   },
   "outputs": [
    {
     "name": "stdout",
     "output_type": "stream",
     "text": [
      "              precision    recall  f1-score   support\n",
      "\n",
      "         0.0       0.88      0.57      0.69       136\n",
      "         1.0       0.43      0.80      0.56        55\n",
      "\n",
      "    accuracy                           0.63       191\n",
      "   macro avg       0.65      0.68      0.62       191\n",
      "weighted avg       0.75      0.63      0.65       191\n",
      "\n"
     ]
    }
   ],
   "source": [
    "# Classification Report\n",
    "print(classification_report(test_y, pred_y))"
   ]
  },
  {
   "cell_type": "markdown",
   "metadata": {},
   "source": [
    "# 4. 성능 개선"
   ]
  },
  {
   "cell_type": "markdown",
   "metadata": {},
   "source": [
    "## 4.A. PKFold 개수 실험"
   ]
  },
  {
   "cell_type": "code",
   "execution_count": 78,
   "metadata": {},
   "outputs": [
    {
     "name": "stdout",
     "output_type": "stream",
     "text": [
      "Best n_cv: 10, Best Score: 0.6582089552238807\n"
     ]
    }
   ],
   "source": [
    "n_cv_options = [3, 5, 7, 10]\n",
    "best_score = -float('inf')\n",
    "best_n_cv = None\n",
    "\n",
    "for n_cv in n_cv_options:\n",
    "    cv = PKFold(n_cv, t1, 0)\n",
    "    scores = cross_val_score(gs_rfc_best, train_x, train_y, cv=cv)\n",
    "    mean_score = scores.mean()\n",
    "    if mean_score > best_score:\n",
    "        best_score = mean_score\n",
    "        best_n_cv = n_cv\n",
    "\n",
    "print(f\"Best n_cv: {best_n_cv}, Best Score: {best_score}\")"
   ]
  },
  {
   "cell_type": "markdown",
   "metadata": {},
   "source": [
    "## 4.B. n_cv=10 성능 확인"
   ]
  },
  {
   "cell_type": "code",
   "execution_count": 80,
   "metadata": {},
   "outputs": [],
   "source": [
    "n_cv = 10\n",
    "t1 = pd.Series(train_y.index.values, index=train_y.index)\n",
    "\n",
    "# purged K-Fold \n",
    "cv = PKFold(n_cv, t1, 0)"
   ]
  },
  {
   "cell_type": "code",
   "execution_count": 81,
   "metadata": {},
   "outputs": [],
   "source": [
    "# GridsearchCV에서 사용할 파라미터 설정\n",
    "bc_params = {'n_estimators': [5, 10, 20],\n",
    "             'max_features': [0.5, 0.7],\n",
    "             'base_estimator__max_depth': [3,5,10,20],\n",
    "             'base_estimator__max_features': [None, 'auto'],\n",
    "             'base_estimator__min_samples_leaf': [3, 5, 10],\n",
    "             'bootstrap_features': [False, True]\n",
    "            }"
   ]
  },
  {
   "cell_type": "code",
   "execution_count": 82,
   "metadata": {},
   "outputs": [],
   "source": [
    "# RandomForest 사용\n",
    "rfc = RandomForestClassifier(class_weight='balanced')"
   ]
  },
  {
   "cell_type": "code",
   "execution_count": 83,
   "metadata": {},
   "outputs": [],
   "source": [
    "# Bagging 적용\n",
    "bag_rfc = BaggingClassifier(rfc)"
   ]
  },
  {
   "cell_type": "code",
   "execution_count": 84,
   "metadata": {},
   "outputs": [],
   "source": [
    "# GridSearchCV 적용\n",
    "gs_rfc = GridSearchCV(bag_rfc, bc_params, cv=cv, n_jobs=-1, verbose=1)"
   ]
  },
  {
   "cell_type": "code",
   "execution_count": null,
   "metadata": {
    "scrolled": true
   },
   "outputs": [
    {
     "name": "stdout",
     "output_type": "stream",
     "text": [
      "Fitting 10 folds for each of 288 candidates, totalling 2880 fits\n"
     ]
    }
   ],
   "source": [
    "# fit\n",
    "gs_rfc.fit(train_x, train_y)"
   ]
  },
  {
   "cell_type": "code",
   "execution_count": null,
   "metadata": {},
   "outputs": [],
   "source": [
    "# best estimator \n",
    "gs_rfc_best = gs_rfc.best_estimator_\n",
    "gs_rfc_best.fit(train_x, train_y)"
   ]
  },
  {
   "cell_type": "code",
   "execution_count": null,
   "metadata": {},
   "outputs": [],
   "source": [
    "# 예측값 확인\n",
    "pred_y = gs_rfc_best.predict(test_x)\n",
    "prob_y = gs_rfc_best.predict_proba(test_x)"
   ]
  },
  {
   "cell_type": "code",
   "execution_count": null,
   "metadata": {},
   "outputs": [],
   "source": [
    "# test_y, pred_y를 활용한 지표 적용\n",
    "confusion = confusion_matrix(test_y, pred_y)\n",
    "accuracy  = accuracy_score(test_y, pred_y)\n",
    "precision = precision_score(test_y, pred_y)\n",
    "recall    = recall_score(test_y, pred_y)\n",
    "\n",
    "# 지표를 통한 결과 확인\n",
    "print('================= confusion matrix ====================')\n",
    "print(confusion)\n",
    "print('=======================================================')\n",
    "print(f'정확도:{accuracy}, 정밀도:{precision}, 재현율:{recall}')"
   ]
  },
  {
   "cell_type": "code",
   "execution_count": null,
   "metadata": {},
   "outputs": [],
   "source": [
    "# ROC curve 만들기\n",
    "fpr, tpr, thresholds = roc_curve(test_y, pred_y)\n",
    "auc = roc_auc_score(test_y, pred_y)\n",
    "\n",
    "# ROC curve 시각화\n",
    "plt.plot(fpr, tpr, linewidth=2)\n",
    "plt.plot([0, 1], [0, 1], 'k--') # dashed diagonal\n",
    "plt.xlabel('fpr')\n",
    "plt.ylabel('tpr')\n",
    "print(f'auc:{auc}')"
   ]
  },
  {
   "cell_type": "code",
   "execution_count": null,
   "metadata": {
    "scrolled": false
   },
   "outputs": [],
   "source": [
    "# Classification Report\n",
    "print(classification_report(test_y, pred_y))"
   ]
  }
 ],
 "metadata": {
  "colab": {
   "provenance": []
  },
  "kernelspec": {
   "display_name": "Python 3 (ipykernel)",
   "language": "python",
   "name": "python3"
  },
  "language_info": {
   "codemirror_mode": {
    "name": "ipython",
    "version": 3
   },
   "file_extension": ".py",
   "mimetype": "text/x-python",
   "name": "python",
   "nbconvert_exporter": "python",
   "pygments_lexer": "ipython3",
   "version": "3.9.7"
  }
 },
 "nbformat": 4,
 "nbformat_minor": 1
}
