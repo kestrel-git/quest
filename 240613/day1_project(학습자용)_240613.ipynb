{
 "cells": [
  {
   "cell_type": "markdown",
   "id": "4b4739af",
   "metadata": {},
   "source": [
    "\n",
    "## 비정제데이터 체험하기_ds2\n",
    "# 2. Data cleaning -택시요금 데이터 다루기 [프로젝트]\n",
    "<br/>\n",
    "<br/>\n",
    "\n",
    "* 목표\n",
    "    * 택시 요금 예측을 위한 데이터 정제\n",
    "    * 머신러닝 알고리즘에 활용 가능하도록 만들기\n",
    "\n",
    "<br/>\n",
    "\n",
    "* 할 일\n",
    "  1. 결측치 판단 및 처리\n",
    "      * [힌트] 결측치의 유무와 비율을 살펴보고 적절한 방법으로 처리합니다.\n",
    "  2. 이상치 판단 및 처리\n",
    "      * [힌트] 숫자형 변수 각각에 대해, 데이터의 index와 변수 값 사이의 scatter plot을 그려보고 이상치가 관찰될 경우 제거합니다.\n",
    "  3. 택시 탑승 및 하차 시간을 활용할 수 있을지 고민해보세요.\n",
    "      * [힌트] 택시의 주행 시간과 주행 거리, 요금 등의 상관 관계도 살펴볼 수 있겠죠?\n",
    "  4. Credit Card와 Debit Card를 구분없이 \"Card\"라는 이름으로 만들어 보세요.\n",
    "\n",
    "<br/>"
   ]
  },
  {
   "cell_type": "code",
   "execution_count": 283,
   "id": "a2703476",
   "metadata": {
    "id": "266157fa"
   },
   "outputs": [],
   "source": [
    "import pandas as pd\n",
    "import numpy as np\n",
    "import matplotlib.pyplot as plt\n",
    "import seaborn as sns"
   ]
  },
  {
   "cell_type": "code",
   "execution_count": 284,
   "id": "a04edfc9",
   "metadata": {
    "id": "0bac12c1"
   },
   "outputs": [],
   "source": [
    "data = pd.read_csv('trip.csv')"
   ]
  },
  {
   "cell_type": "markdown",
   "id": "df072394",
   "metadata": {},
   "source": [
    "<br/><br/>\n",
    "# 데이터 둘러보기\n",
    "<br/><br/>"
   ]
  },
  {
   "cell_type": "code",
   "execution_count": 285,
   "id": "5252021f",
   "metadata": {
    "id": "be0a788a",
    "outputId": "32a759a9-b9e0-4654-98bd-6e6cae897ebb",
    "scrolled": true
   },
   "outputs": [
    {
     "data": {
      "text/html": [
       "<div>\n",
       "<style scoped>\n",
       "    .dataframe tbody tr th:only-of-type {\n",
       "        vertical-align: middle;\n",
       "    }\n",
       "\n",
       "    .dataframe tbody tr th {\n",
       "        vertical-align: top;\n",
       "    }\n",
       "\n",
       "    .dataframe thead th {\n",
       "        text-align: right;\n",
       "    }\n",
       "</style>\n",
       "<table border=\"1\" class=\"dataframe\">\n",
       "  <thead>\n",
       "    <tr style=\"text-align: right;\">\n",
       "      <th></th>\n",
       "      <th>passenger_name</th>\n",
       "      <th>tpep_pickup_datetime</th>\n",
       "      <th>tpep_dropoff_datetime</th>\n",
       "      <th>payment_method</th>\n",
       "      <th>passenger_count</th>\n",
       "      <th>trip_distance</th>\n",
       "      <th>fare_amount</th>\n",
       "      <th>tip_amount</th>\n",
       "      <th>tolls_amount</th>\n",
       "    </tr>\n",
       "  </thead>\n",
       "  <tbody>\n",
       "    <tr>\n",
       "      <th>0</th>\n",
       "      <td>Pamela Duffy</td>\n",
       "      <td>03/25/2017 8:55:43 AM</td>\n",
       "      <td>03/25/2017 9:09:47 AM</td>\n",
       "      <td>Debit Card</td>\n",
       "      <td>6</td>\n",
       "      <td>3.34</td>\n",
       "      <td>13.0</td>\n",
       "      <td>2.76</td>\n",
       "      <td>0.0</td>\n",
       "    </tr>\n",
       "    <tr>\n",
       "      <th>1</th>\n",
       "      <td>Michelle Foster</td>\n",
       "      <td>04/11/2017 2:53:28 PM</td>\n",
       "      <td>04/11/2017 3:19:58 PM</td>\n",
       "      <td>Debit Card</td>\n",
       "      <td>1</td>\n",
       "      <td>1.80</td>\n",
       "      <td>16.0</td>\n",
       "      <td>4.00</td>\n",
       "      <td>0.0</td>\n",
       "    </tr>\n",
       "    <tr>\n",
       "      <th>2</th>\n",
       "      <td>Tina Combs</td>\n",
       "      <td>12/15/2017 7:26:56 AM</td>\n",
       "      <td>12/15/2017 7:34:08 AM</td>\n",
       "      <td>Debit Card</td>\n",
       "      <td>1</td>\n",
       "      <td>1.00</td>\n",
       "      <td>6.5</td>\n",
       "      <td>1.45</td>\n",
       "      <td>0.0</td>\n",
       "    </tr>\n",
       "    <tr>\n",
       "      <th>3</th>\n",
       "      <td>Anthony Ray</td>\n",
       "      <td>05/07/2017 1:17:59 PM</td>\n",
       "      <td>05/07/2017 1:48:14 PM</td>\n",
       "      <td>Cash</td>\n",
       "      <td>1</td>\n",
       "      <td>3.70</td>\n",
       "      <td>20.5</td>\n",
       "      <td>6.39</td>\n",
       "      <td>0.0</td>\n",
       "    </tr>\n",
       "    <tr>\n",
       "      <th>4</th>\n",
       "      <td>Brianna Johnson</td>\n",
       "      <td>04/15/2017 11:32:20 PM</td>\n",
       "      <td>04/15/2017 11:49:03 PM</td>\n",
       "      <td>Debit Card</td>\n",
       "      <td>1</td>\n",
       "      <td>4.37</td>\n",
       "      <td>16.5</td>\n",
       "      <td>0.00</td>\n",
       "      <td>0.0</td>\n",
       "    </tr>\n",
       "  </tbody>\n",
       "</table>\n",
       "</div>"
      ],
      "text/plain": [
       "    passenger_name    tpep_pickup_datetime   tpep_dropoff_datetime  \\\n",
       "0     Pamela Duffy   03/25/2017 8:55:43 AM   03/25/2017 9:09:47 AM   \n",
       "1  Michelle Foster   04/11/2017 2:53:28 PM   04/11/2017 3:19:58 PM   \n",
       "2       Tina Combs   12/15/2017 7:26:56 AM   12/15/2017 7:34:08 AM   \n",
       "3      Anthony Ray   05/07/2017 1:17:59 PM   05/07/2017 1:48:14 PM   \n",
       "4  Brianna Johnson  04/15/2017 11:32:20 PM  04/15/2017 11:49:03 PM   \n",
       "\n",
       "  payment_method  passenger_count  trip_distance  fare_amount  tip_amount  \\\n",
       "0     Debit Card                6           3.34         13.0        2.76   \n",
       "1     Debit Card                1           1.80         16.0        4.00   \n",
       "2     Debit Card                1           1.00          6.5        1.45   \n",
       "3           Cash                1           3.70         20.5        6.39   \n",
       "4     Debit Card                1           4.37         16.5        0.00   \n",
       "\n",
       "   tolls_amount  \n",
       "0           0.0  \n",
       "1           0.0  \n",
       "2           0.0  \n",
       "3           0.0  \n",
       "4           0.0  "
      ]
     },
     "execution_count": 285,
     "metadata": {},
     "output_type": "execute_result"
    }
   ],
   "source": [
    "# 데이터 모습 확인\n",
    "\n",
    "data.head()"
   ]
  },
  {
   "cell_type": "code",
   "execution_count": 286,
   "id": "97e3881a",
   "metadata": {
    "id": "23691858",
    "outputId": "924b86fc-945f-4673-d98c-3cc6e42a94cb"
   },
   "outputs": [
    {
     "name": "stdout",
     "output_type": "stream",
     "text": [
      "<class 'pandas.core.frame.DataFrame'>\n",
      "RangeIndex: 22701 entries, 0 to 22700\n",
      "Data columns (total 9 columns):\n",
      " #   Column                 Non-Null Count  Dtype  \n",
      "---  ------                 --------------  -----  \n",
      " 0   passenger_name         22701 non-null  object \n",
      " 1   tpep_pickup_datetime   22701 non-null  object \n",
      " 2   tpep_dropoff_datetime  22701 non-null  object \n",
      " 3   payment_method         22701 non-null  object \n",
      " 4   passenger_count        22701 non-null  int64  \n",
      " 5   trip_distance          22701 non-null  float64\n",
      " 6   fare_amount            22698 non-null  float64\n",
      " 7   tip_amount             22701 non-null  float64\n",
      " 8   tolls_amount           22701 non-null  float64\n",
      "dtypes: float64(4), int64(1), object(4)\n",
      "memory usage: 1.6+ MB\n"
     ]
    }
   ],
   "source": [
    "# 데이터 정보 확인\n",
    "# fare_amount 컬럼에 결측치 존재\n",
    "\n",
    "data.info()"
   ]
  },
  {
   "cell_type": "code",
   "execution_count": 287,
   "id": "d926ccc2",
   "metadata": {
    "id": "aec5003f",
    "outputId": "264c692f-4b20-493d-b986-91911aaed7e9",
    "scrolled": true
   },
   "outputs": [
    {
     "data": {
      "text/html": [
       "<div>\n",
       "<style scoped>\n",
       "    .dataframe tbody tr th:only-of-type {\n",
       "        vertical-align: middle;\n",
       "    }\n",
       "\n",
       "    .dataframe tbody tr th {\n",
       "        vertical-align: top;\n",
       "    }\n",
       "\n",
       "    .dataframe thead th {\n",
       "        text-align: right;\n",
       "    }\n",
       "</style>\n",
       "<table border=\"1\" class=\"dataframe\">\n",
       "  <thead>\n",
       "    <tr style=\"text-align: right;\">\n",
       "      <th></th>\n",
       "      <th>passenger_count</th>\n",
       "      <th>trip_distance</th>\n",
       "      <th>fare_amount</th>\n",
       "      <th>tip_amount</th>\n",
       "      <th>tolls_amount</th>\n",
       "    </tr>\n",
       "  </thead>\n",
       "  <tbody>\n",
       "    <tr>\n",
       "      <th>count</th>\n",
       "      <td>22701.000000</td>\n",
       "      <td>22701.000000</td>\n",
       "      <td>22698.000000</td>\n",
       "      <td>22701.000000</td>\n",
       "      <td>22701.000000</td>\n",
       "    </tr>\n",
       "    <tr>\n",
       "      <th>mean</th>\n",
       "      <td>1.643584</td>\n",
       "      <td>2.913400</td>\n",
       "      <td>13.024009</td>\n",
       "      <td>1.835745</td>\n",
       "      <td>0.312514</td>\n",
       "    </tr>\n",
       "    <tr>\n",
       "      <th>std</th>\n",
       "      <td>1.304942</td>\n",
       "      <td>3.653023</td>\n",
       "      <td>13.240074</td>\n",
       "      <td>2.800537</td>\n",
       "      <td>1.399153</td>\n",
       "    </tr>\n",
       "    <tr>\n",
       "      <th>min</th>\n",
       "      <td>0.000000</td>\n",
       "      <td>0.000000</td>\n",
       "      <td>-120.000000</td>\n",
       "      <td>0.000000</td>\n",
       "      <td>0.000000</td>\n",
       "    </tr>\n",
       "    <tr>\n",
       "      <th>25%</th>\n",
       "      <td>1.000000</td>\n",
       "      <td>0.990000</td>\n",
       "      <td>6.500000</td>\n",
       "      <td>0.000000</td>\n",
       "      <td>0.000000</td>\n",
       "    </tr>\n",
       "    <tr>\n",
       "      <th>50%</th>\n",
       "      <td>1.000000</td>\n",
       "      <td>1.610000</td>\n",
       "      <td>9.500000</td>\n",
       "      <td>1.350000</td>\n",
       "      <td>0.000000</td>\n",
       "    </tr>\n",
       "    <tr>\n",
       "      <th>75%</th>\n",
       "      <td>2.000000</td>\n",
       "      <td>3.060000</td>\n",
       "      <td>14.500000</td>\n",
       "      <td>2.450000</td>\n",
       "      <td>0.000000</td>\n",
       "    </tr>\n",
       "    <tr>\n",
       "      <th>max</th>\n",
       "      <td>36.000000</td>\n",
       "      <td>33.960000</td>\n",
       "      <td>999.990000</td>\n",
       "      <td>200.000000</td>\n",
       "      <td>19.100000</td>\n",
       "    </tr>\n",
       "  </tbody>\n",
       "</table>\n",
       "</div>"
      ],
      "text/plain": [
       "       passenger_count  trip_distance   fare_amount    tip_amount  \\\n",
       "count     22701.000000   22701.000000  22698.000000  22701.000000   \n",
       "mean          1.643584       2.913400     13.024009      1.835745   \n",
       "std           1.304942       3.653023     13.240074      2.800537   \n",
       "min           0.000000       0.000000   -120.000000      0.000000   \n",
       "25%           1.000000       0.990000      6.500000      0.000000   \n",
       "50%           1.000000       1.610000      9.500000      1.350000   \n",
       "75%           2.000000       3.060000     14.500000      2.450000   \n",
       "max          36.000000      33.960000    999.990000    200.000000   \n",
       "\n",
       "       tolls_amount  \n",
       "count  22701.000000  \n",
       "mean       0.312514  \n",
       "std        1.399153  \n",
       "min        0.000000  \n",
       "25%        0.000000  \n",
       "50%        0.000000  \n",
       "75%        0.000000  \n",
       "max       19.100000  "
      ]
     },
     "execution_count": 287,
     "metadata": {},
     "output_type": "execute_result"
    }
   ],
   "source": [
    "# 통계 요약값을 확인하여 이상치 확인\n",
    "\n",
    "# passenger_count(승객수): min 0, max 36이 이상해보인다.\n",
    "# fare_amount(요금): min 마이너스 값이 이상해보인다. max 999도 조금 어색해보인다.\n",
    "\n",
    "data.describe()"
   ]
  },
  {
   "cell_type": "markdown",
   "id": "88695fce",
   "metadata": {},
   "source": [
    "<br/><br/>\n",
    "# 불필요한 컬럼 삭제\n",
    "* 택시 요금 예측과 관련이 없는 'passenger_name' 컬럼 삭제\n",
    "<br/><br/>"
   ]
  },
  {
   "cell_type": "code",
   "execution_count": 288,
   "id": "f05ac5f3",
   "metadata": {},
   "outputs": [],
   "source": [
    "# passenger_name 컬럼은 택시 요금 예측과 관련이 없는 요소이므로 삭제\n",
    "\n",
    "data = data.drop(['passenger_name'], axis = 1)"
   ]
  },
  {
   "cell_type": "markdown",
   "id": "c358be3c",
   "metadata": {},
   "source": [
    "<br/><br/>\n",
    "# 결측치 처리\n",
    "\n",
    "* fare_amount 결측치 3개 삭제\n",
    "<br/><br/>"
   ]
  },
  {
   "cell_type": "code",
   "execution_count": 289,
   "id": "7c2656e1",
   "metadata": {
    "scrolled": true
   },
   "outputs": [
    {
     "data": {
      "text/plain": [
       "tpep_pickup_datetime     0\n",
       "tpep_dropoff_datetime    0\n",
       "payment_method           0\n",
       "passenger_count          0\n",
       "trip_distance            0\n",
       "fare_amount              3\n",
       "tip_amount               0\n",
       "tolls_amount             0\n",
       "dtype: int64"
      ]
     },
     "execution_count": 289,
     "metadata": {},
     "output_type": "execute_result"
    }
   ],
   "source": [
    "# 컬럼별 결측치 개수 개산\n",
    "# fare_amount에서 결측치 3개 발견\n",
    "\n",
    "data.isna().sum()"
   ]
  },
  {
   "cell_type": "code",
   "execution_count": 290,
   "id": "62c3255d",
   "metadata": {
    "scrolled": true
   },
   "outputs": [
    {
     "data": {
      "text/plain": [
       "tpep_pickup_datetime     0.000000\n",
       "tpep_dropoff_datetime    0.000000\n",
       "payment_method           0.000000\n",
       "passenger_count          0.000000\n",
       "trip_distance            0.000000\n",
       "fare_amount              0.000132\n",
       "tip_amount               0.000000\n",
       "tolls_amount             0.000000\n",
       "dtype: float64"
      ]
     },
     "execution_count": 290,
     "metadata": {},
     "output_type": "execute_result"
    }
   ],
   "source": [
    "# 컬럼별 결측치 비율 계산\n",
    "# fare_amount 결측치 비율: 0.000132\n",
    "\n",
    "data.isna().mean()"
   ]
  },
  {
   "cell_type": "code",
   "execution_count": 291,
   "id": "cad9a3b0",
   "metadata": {
    "scrolled": true
   },
   "outputs": [
    {
     "data": {
      "text/html": [
       "<div>\n",
       "<style scoped>\n",
       "    .dataframe tbody tr th:only-of-type {\n",
       "        vertical-align: middle;\n",
       "    }\n",
       "\n",
       "    .dataframe tbody tr th {\n",
       "        vertical-align: top;\n",
       "    }\n",
       "\n",
       "    .dataframe thead th {\n",
       "        text-align: right;\n",
       "    }\n",
       "</style>\n",
       "<table border=\"1\" class=\"dataframe\">\n",
       "  <thead>\n",
       "    <tr style=\"text-align: right;\">\n",
       "      <th></th>\n",
       "      <th>tpep_pickup_datetime</th>\n",
       "      <th>tpep_dropoff_datetime</th>\n",
       "      <th>payment_method</th>\n",
       "      <th>passenger_count</th>\n",
       "      <th>trip_distance</th>\n",
       "      <th>fare_amount</th>\n",
       "      <th>tip_amount</th>\n",
       "      <th>tolls_amount</th>\n",
       "    </tr>\n",
       "  </thead>\n",
       "  <tbody>\n",
       "    <tr>\n",
       "      <th>52</th>\n",
       "      <td>04/04/2017 4:22:03 PM</td>\n",
       "      <td>04/04/2017 4:35:30 PM</td>\n",
       "      <td>Cash</td>\n",
       "      <td>1</td>\n",
       "      <td>2.20</td>\n",
       "      <td>NaN</td>\n",
       "      <td>0.0</td>\n",
       "      <td>0.00</td>\n",
       "    </tr>\n",
       "    <tr>\n",
       "      <th>189</th>\n",
       "      <td>08/21/2017 12:40:25 PM</td>\n",
       "      <td>08/21/2017 1:12:31 PM</td>\n",
       "      <td>Debit Card</td>\n",
       "      <td>3</td>\n",
       "      <td>15.20</td>\n",
       "      <td>NaN</td>\n",
       "      <td>5.0</td>\n",
       "      <td>0.00</td>\n",
       "    </tr>\n",
       "    <tr>\n",
       "      <th>244</th>\n",
       "      <td>08/09/2017 8:32:09 AM</td>\n",
       "      <td>08/09/2017 9:31:11 AM</td>\n",
       "      <td>Cash</td>\n",
       "      <td>1</td>\n",
       "      <td>15.89</td>\n",
       "      <td>NaN</td>\n",
       "      <td>10.0</td>\n",
       "      <td>5.76</td>\n",
       "    </tr>\n",
       "  </tbody>\n",
       "</table>\n",
       "</div>"
      ],
      "text/plain": [
       "       tpep_pickup_datetime  tpep_dropoff_datetime payment_method  \\\n",
       "52    04/04/2017 4:22:03 PM  04/04/2017 4:35:30 PM           Cash   \n",
       "189  08/21/2017 12:40:25 PM  08/21/2017 1:12:31 PM     Debit Card   \n",
       "244   08/09/2017 8:32:09 AM  08/09/2017 9:31:11 AM           Cash   \n",
       "\n",
       "     passenger_count  trip_distance  fare_amount  tip_amount  tolls_amount  \n",
       "52                 1           2.20          NaN         0.0          0.00  \n",
       "189                3          15.20          NaN         5.0          0.00  \n",
       "244                1          15.89          NaN        10.0          5.76  "
      ]
     },
     "execution_count": 291,
     "metadata": {},
     "output_type": "execute_result"
    }
   ],
   "source": [
    "# fare_amount 결측치가 포함된 데이터 확인\n",
    "\n",
    "data[data['fare_amount'].isna()]"
   ]
  },
  {
   "cell_type": "code",
   "execution_count": 292,
   "id": "65a26b02",
   "metadata": {},
   "outputs": [
    {
     "data": {
      "text/plain": [
       "0        13.0\n",
       "1        16.0\n",
       "2         6.5\n",
       "3        20.5\n",
       "4        16.5\n",
       "         ... \n",
       "22696     4.0\n",
       "22697    52.0\n",
       "22698     4.5\n",
       "22699    10.5\n",
       "22700    11.0\n",
       "Name: fare_amount, Length: 22701, dtype: float64"
      ]
     },
     "execution_count": 292,
     "metadata": {},
     "output_type": "execute_result"
    }
   ],
   "source": [
    "# fare_amount 컬럼 값 확인\n",
    "\n",
    "data['fare_amount']"
   ]
  },
  {
   "cell_type": "code",
   "execution_count": 293,
   "id": "78044f19",
   "metadata": {},
   "outputs": [
    {
     "data": {
      "text/plain": [
       "count    22698.000000\n",
       "mean        13.024009\n",
       "std         13.240074\n",
       "min       -120.000000\n",
       "25%          6.500000\n",
       "50%          9.500000\n",
       "75%         14.500000\n",
       "max        999.990000\n",
       "Name: fare_amount, dtype: float64"
      ]
     },
     "execution_count": 293,
     "metadata": {},
     "output_type": "execute_result"
    }
   ],
   "source": [
    "# fare_amount 통계값 확인\n",
    "\n",
    "data['fare_amount'].describe()"
   ]
  },
  {
   "cell_type": "code",
   "execution_count": 294,
   "id": "d2cf3883",
   "metadata": {
    "scrolled": true
   },
   "outputs": [],
   "source": [
    "# fare_amount 결측치 처리\n",
    "# 방법: 결측치가 있는 행 삭제\n",
    "# 이유: 전체 22701개 중 결측치는 3개로, 0.000132의 적은 비중만을 차지\n",
    "\n",
    "data = data.dropna(subset = ['fare_amount'])"
   ]
  },
  {
   "cell_type": "markdown",
   "id": "a4c7e56c",
   "metadata": {},
   "source": [
    "<br/><br/>\n",
    "# 이상치 처리\n",
    "\n",
    "1. passenger_count가 0이거나 36인 데이터 삭제\n",
    "\n",
    "2. trip_distance가 0 이하인 데이터 삭제\n",
    "\n",
    "3. fare_amount가 0.01 이하거나 999인 경우의 데이터 삭제\n",
    "<br/><br/>"
   ]
  },
  {
   "cell_type": "code",
   "execution_count": 295,
   "id": "ab4fdf50",
   "metadata": {
    "scrolled": true
   },
   "outputs": [
    {
     "data": {
      "text/html": [
       "<div>\n",
       "<style scoped>\n",
       "    .dataframe tbody tr th:only-of-type {\n",
       "        vertical-align: middle;\n",
       "    }\n",
       "\n",
       "    .dataframe tbody tr th {\n",
       "        vertical-align: top;\n",
       "    }\n",
       "\n",
       "    .dataframe thead th {\n",
       "        text-align: right;\n",
       "    }\n",
       "</style>\n",
       "<table border=\"1\" class=\"dataframe\">\n",
       "  <thead>\n",
       "    <tr style=\"text-align: right;\">\n",
       "      <th></th>\n",
       "      <th>passenger_count</th>\n",
       "      <th>trip_distance</th>\n",
       "      <th>fare_amount</th>\n",
       "      <th>tip_amount</th>\n",
       "      <th>tolls_amount</th>\n",
       "    </tr>\n",
       "  </thead>\n",
       "  <tbody>\n",
       "    <tr>\n",
       "      <th>count</th>\n",
       "      <td>22698.000000</td>\n",
       "      <td>22698.000000</td>\n",
       "      <td>22698.000000</td>\n",
       "      <td>22698.000000</td>\n",
       "      <td>22698.000000</td>\n",
       "    </tr>\n",
       "    <tr>\n",
       "      <th>mean</th>\n",
       "      <td>1.643581</td>\n",
       "      <td>2.912318</td>\n",
       "      <td>13.024009</td>\n",
       "      <td>1.835327</td>\n",
       "      <td>0.312302</td>\n",
       "    </tr>\n",
       "    <tr>\n",
       "      <th>std</th>\n",
       "      <td>1.304983</td>\n",
       "      <td>3.651335</td>\n",
       "      <td>13.240074</td>\n",
       "      <td>2.800093</td>\n",
       "      <td>1.398775</td>\n",
       "    </tr>\n",
       "    <tr>\n",
       "      <th>min</th>\n",
       "      <td>0.000000</td>\n",
       "      <td>0.000000</td>\n",
       "      <td>-120.000000</td>\n",
       "      <td>0.000000</td>\n",
       "      <td>0.000000</td>\n",
       "    </tr>\n",
       "    <tr>\n",
       "      <th>25%</th>\n",
       "      <td>1.000000</td>\n",
       "      <td>0.990000</td>\n",
       "      <td>6.500000</td>\n",
       "      <td>0.000000</td>\n",
       "      <td>0.000000</td>\n",
       "    </tr>\n",
       "    <tr>\n",
       "      <th>50%</th>\n",
       "      <td>1.000000</td>\n",
       "      <td>1.610000</td>\n",
       "      <td>9.500000</td>\n",
       "      <td>1.350000</td>\n",
       "      <td>0.000000</td>\n",
       "    </tr>\n",
       "    <tr>\n",
       "      <th>75%</th>\n",
       "      <td>2.000000</td>\n",
       "      <td>3.060000</td>\n",
       "      <td>14.500000</td>\n",
       "      <td>2.450000</td>\n",
       "      <td>0.000000</td>\n",
       "    </tr>\n",
       "    <tr>\n",
       "      <th>max</th>\n",
       "      <td>36.000000</td>\n",
       "      <td>33.960000</td>\n",
       "      <td>999.990000</td>\n",
       "      <td>200.000000</td>\n",
       "      <td>19.100000</td>\n",
       "    </tr>\n",
       "  </tbody>\n",
       "</table>\n",
       "</div>"
      ],
      "text/plain": [
       "       passenger_count  trip_distance   fare_amount    tip_amount  \\\n",
       "count     22698.000000   22698.000000  22698.000000  22698.000000   \n",
       "mean          1.643581       2.912318     13.024009      1.835327   \n",
       "std           1.304983       3.651335     13.240074      2.800093   \n",
       "min           0.000000       0.000000   -120.000000      0.000000   \n",
       "25%           1.000000       0.990000      6.500000      0.000000   \n",
       "50%           1.000000       1.610000      9.500000      1.350000   \n",
       "75%           2.000000       3.060000     14.500000      2.450000   \n",
       "max          36.000000      33.960000    999.990000    200.000000   \n",
       "\n",
       "       tolls_amount  \n",
       "count  22698.000000  \n",
       "mean       0.312302  \n",
       "std        1.398775  \n",
       "min        0.000000  \n",
       "25%        0.000000  \n",
       "50%        0.000000  \n",
       "75%        0.000000  \n",
       "max       19.100000  "
      ]
     },
     "execution_count": 295,
     "metadata": {},
     "output_type": "execute_result"
    }
   ],
   "source": [
    "# 통계 요약값을 확인하여 이상치 확인\n",
    "\n",
    "# passenger_count(승객수): min 0, max 36이 이상해보인다.\n",
    "# trip_distance(이동 거리): trip_distance가 0인 점이 이상하다.\n",
    "# fare_amount(요금): min 마이너스 값이 이상해보인다. max 999도 조금 어색해보인다.\n",
    "\n",
    "data.describe()"
   ]
  },
  {
   "cell_type": "markdown",
   "id": "198270bb",
   "metadata": {},
   "source": [
    "### passenger_count 이상치 처리"
   ]
  },
  {
   "cell_type": "code",
   "execution_count": 296,
   "id": "c5f395e2",
   "metadata": {
    "scrolled": false
   },
   "outputs": [
    {
     "data": {
      "text/plain": [
       "<AxesSubplot:ylabel='passenger_count'>"
      ]
     },
     "execution_count": 296,
     "metadata": {},
     "output_type": "execute_result"
    },
    {
     "data": {
      "image/png": "[encoded data removed]",
      "text/plain": [
       "<Figure size 432x288 with 1 Axes>"
      ]
     },
     "metadata": {
      "needs_background": "light"
     },
     "output_type": "display_data"
    }
   ],
   "source": [
    "# passenger_count 산포도 확인\n",
    "\n",
    "sns.scatterplot(x = data.index, y = data['passenger_count'])"
   ]
  },
  {
   "cell_type": "code",
   "execution_count": 297,
   "id": "a78e0f69",
   "metadata": {},
   "outputs": [
    {
     "name": "stderr",
     "output_type": "stream",
     "text": [
      "/opt/conda/lib/python3.9/site-packages/seaborn/_decorators.py:36: FutureWarning: Pass the following variable as a keyword arg: x. From version 0.12, the only valid positional argument will be `data`, and passing other arguments without an explicit keyword will result in an error or misinterpretation.\n",
      "  warnings.warn(\n"
     ]
    },
    {
     "data": {
      "text/plain": [
       "<AxesSubplot:xlabel='passenger_count'>"
      ]
     },
     "execution_count": 297,
     "metadata": {},
     "output_type": "execute_result"
    },
    {
     "data": {
      "image/png": "[encoded data removed]",
      "text/plain": [
       "<Figure size 432x288 with 1 Axes>"
      ]
     },
     "metadata": {
      "needs_background": "light"
     },
     "output_type": "display_data"
    }
   ],
   "source": [
    "# passenger_count 상자 그림 확인\n",
    "\n",
    "sns.boxplot(data['passenger_count'])"
   ]
  },
  {
   "cell_type": "code",
   "execution_count": 298,
   "id": "b8e3585b",
   "metadata": {},
   "outputs": [
    {
     "data": {
      "text/plain": [
       "12804     0\n",
       "19458     0\n",
       "5565      0\n",
       "5670      0\n",
       "13718     0\n",
       "         ..\n",
       "21791     6\n",
       "15629     6\n",
       "4854      6\n",
       "0         6\n",
       "64       36\n",
       "Name: passenger_count, Length: 22698, dtype: int64"
      ]
     },
     "execution_count": 298,
     "metadata": {},
     "output_type": "execute_result"
    }
   ],
   "source": [
    "# passenger_count 오름차순 값 확인\n",
    "\n",
    "data['passenger_count'].sort_values()"
   ]
  },
  {
   "cell_type": "code",
   "execution_count": 299,
   "id": "eda98080",
   "metadata": {},
   "outputs": [
    {
     "data": {
      "text/plain": [
       "33"
      ]
     },
     "execution_count": 299,
     "metadata": {},
     "output_type": "execute_result"
    }
   ],
   "source": [
    "# passenger_count가 0인 데이터 개수 확인\n",
    "\n",
    "len(data['passenger_count'][data['passenger_count'] == 0])"
   ]
  },
  {
   "cell_type": "code",
   "execution_count": 300,
   "id": "4230a404",
   "metadata": {
    "scrolled": true
   },
   "outputs": [],
   "source": [
    "# passenger_count가 0일 경우는 없으므로 데이터 삭제\n",
    "# 이유: 33개면 전체 개수 대비 적은 양\n",
    "\n",
    "data = data[data['passenger_count'] != 0]"
   ]
  },
  {
   "cell_type": "code",
   "execution_count": 301,
   "id": "6a2700b5",
   "metadata": {
    "scrolled": true
   },
   "outputs": [
    {
     "data": {
      "text/plain": [
       "64       36\n",
       "0         6\n",
       "11615     6\n",
       "20360     6\n",
       "3254      6\n",
       "3245      6\n",
       "14436     6\n",
       "3205      6\n",
       "14430     6\n",
       "20407     6\n",
       "20408     6\n",
       "3192      6\n",
       "3189      6\n",
       "3187      6\n",
       "20424     6\n",
       "3162      6\n",
       "3113      6\n",
       "3083      6\n",
       "20493     6\n",
       "20355     6\n",
       "Name: passenger_count, dtype: int64"
      ]
     },
     "execution_count": 301,
     "metadata": {},
     "output_type": "execute_result"
    }
   ],
   "source": [
    "# passenger_count 내림차순 값 확인\n",
    "# 36명이 택시에 탑승할 수 없으므로 이상치이며 삭제 필요\n",
    "\n",
    "data['passenger_count'].sort_values(ascending = False).head(20)"
   ]
  },
  {
   "cell_type": "code",
   "execution_count": 302,
   "id": "27d43da0",
   "metadata": {},
   "outputs": [],
   "source": [
    "# passenger_count가 36인 데이터 삭제\n",
    "\n",
    "data = data[data['passenger_count'] != 36]"
   ]
  },
  {
   "cell_type": "markdown",
   "id": "4ae2112e",
   "metadata": {},
   "source": [
    "### trip_distance 이상치 처리"
   ]
  },
  {
   "cell_type": "code",
   "execution_count": 303,
   "id": "c093e69f",
   "metadata": {
    "scrolled": true
   },
   "outputs": [
    {
     "data": {
      "text/plain": [
       "<AxesSubplot:ylabel='trip_distance'>"
      ]
     },
     "execution_count": 303,
     "metadata": {},
     "output_type": "execute_result"
    },
    {
     "data": {
      "image/png": "[encoded data removed]",
      "text/plain": [
       "<Figure size 432x288 with 1 Axes>"
      ]
     },
     "metadata": {
      "needs_background": "light"
     },
     "output_type": "display_data"
    }
   ],
   "source": [
    "# trip_distance 산포도 확인\n",
    "\n",
    "sns.scatterplot(x = data.index, y = data['trip_distance'])"
   ]
  },
  {
   "cell_type": "code",
   "execution_count": 304,
   "id": "2dac69f9",
   "metadata": {
    "scrolled": true
   },
   "outputs": [
    {
     "name": "stderr",
     "output_type": "stream",
     "text": [
      "/opt/conda/lib/python3.9/site-packages/seaborn/_decorators.py:36: FutureWarning: Pass the following variable as a keyword arg: x. From version 0.12, the only valid positional argument will be `data`, and passing other arguments without an explicit keyword will result in an error or misinterpretation.\n",
      "  warnings.warn(\n"
     ]
    },
    {
     "data": {
      "text/plain": [
       "<AxesSubplot:xlabel='trip_distance'>"
      ]
     },
     "execution_count": 304,
     "metadata": {},
     "output_type": "execute_result"
    },
    {
     "data": {
      "image/png": "[encoded data removed]",
      "text/plain": [
       "<Figure size 432x288 with 1 Axes>"
      ]
     },
     "metadata": {
      "needs_background": "light"
     },
     "output_type": "display_data"
    }
   ],
   "source": [
    "# trip_distance 상자 그림 확인\n",
    "\n",
    "sns.boxplot(data['trip_distance'])"
   ]
  },
  {
   "cell_type": "code",
   "execution_count": 305,
   "id": "0f7b4284",
   "metadata": {},
   "outputs": [
    {
     "data": {
      "text/plain": [
       "147"
      ]
     },
     "execution_count": 305,
     "metadata": {},
     "output_type": "execute_result"
    }
   ],
   "source": [
    "# trip_distance가 0 이하인 데이터 개수 확인\n",
    "\n",
    "len(data['trip_distance'][data['trip_distance'] <= 0])"
   ]
  },
  {
   "cell_type": "code",
   "execution_count": 306,
   "id": "b193234d",
   "metadata": {},
   "outputs": [],
   "source": [
    "# trip_distance가 0 이하인 데이터 삭제\n",
    "\n",
    "data = data[data['trip_distance'] > 0]"
   ]
  },
  {
   "cell_type": "markdown",
   "id": "9d29b45a",
   "metadata": {},
   "source": [
    "### fare_amount 이상치 처리"
   ]
  },
  {
   "cell_type": "code",
   "execution_count": 307,
   "id": "bfd20f39",
   "metadata": {},
   "outputs": [
    {
     "data": {
      "text/plain": [
       "<AxesSubplot:ylabel='fare_amount'>"
      ]
     },
     "execution_count": 307,
     "metadata": {},
     "output_type": "execute_result"
    },
    {
     "data": {
      "image/png": "[encoded data removed]",
      "text/plain": [
       "<Figure size 432x288 with 1 Axes>"
      ]
     },
     "metadata": {
      "needs_background": "light"
     },
     "output_type": "display_data"
    }
   ],
   "source": [
    "# fare_amount 산포도 확인\n",
    "\n",
    "sns.scatterplot(x = data.index, y = data['fare_amount'])"
   ]
  },
  {
   "cell_type": "code",
   "execution_count": 308,
   "id": "c820af08",
   "metadata": {},
   "outputs": [
    {
     "name": "stderr",
     "output_type": "stream",
     "text": [
      "/opt/conda/lib/python3.9/site-packages/seaborn/_decorators.py:36: FutureWarning: Pass the following variable as a keyword arg: x. From version 0.12, the only valid positional argument will be `data`, and passing other arguments without an explicit keyword will result in an error or misinterpretation.\n",
      "  warnings.warn(\n"
     ]
    },
    {
     "data": {
      "text/plain": [
       "<AxesSubplot:xlabel='fare_amount'>"
      ]
     },
     "execution_count": 308,
     "metadata": {},
     "output_type": "execute_result"
    },
    {
     "data": {
      "image/png": "[encoded data removed]",
      "text/plain": [
       "<Figure size 432x288 with 1 Axes>"
      ]
     },
     "metadata": {
      "needs_background": "light"
     },
     "output_type": "display_data"
    }
   ],
   "source": [
    "# fare_amount 상자 그림 확인\n",
    "\n",
    "sns.boxplot(data['fare_amount'])"
   ]
  },
  {
   "cell_type": "code",
   "execution_count": 309,
   "id": "6b3eb568",
   "metadata": {},
   "outputs": [
    {
     "data": {
      "text/plain": [
       "16"
      ]
     },
     "execution_count": 309,
     "metadata": {},
     "output_type": "execute_result"
    }
   ],
   "source": [
    "# fare_amount가 0 이하인 데이터 개수 확인\n",
    "\n",
    "len(data['fare_amount'][data['fare_amount'] <= 0])"
   ]
  },
  {
   "cell_type": "code",
   "execution_count": 310,
   "id": "5e02eeca",
   "metadata": {
    "scrolled": false
   },
   "outputs": [
    {
     "data": {
      "text/html": [
       "<div>\n",
       "<style scoped>\n",
       "    .dataframe tbody tr th:only-of-type {\n",
       "        vertical-align: middle;\n",
       "    }\n",
       "\n",
       "    .dataframe tbody tr th {\n",
       "        vertical-align: top;\n",
       "    }\n",
       "\n",
       "    .dataframe thead th {\n",
       "        text-align: right;\n",
       "    }\n",
       "</style>\n",
       "<table border=\"1\" class=\"dataframe\">\n",
       "  <thead>\n",
       "    <tr style=\"text-align: right;\">\n",
       "      <th></th>\n",
       "      <th>tpep_pickup_datetime</th>\n",
       "      <th>tpep_dropoff_datetime</th>\n",
       "      <th>payment_method</th>\n",
       "      <th>passenger_count</th>\n",
       "      <th>trip_distance</th>\n",
       "      <th>fare_amount</th>\n",
       "      <th>tip_amount</th>\n",
       "      <th>tolls_amount</th>\n",
       "    </tr>\n",
       "  </thead>\n",
       "  <tbody>\n",
       "    <tr>\n",
       "      <th>12946</th>\n",
       "      <td>04/08/2017 12:00:16 AM</td>\n",
       "      <td>04/08/2017 11:15:57 PM</td>\n",
       "      <td>Cash</td>\n",
       "      <td>1</td>\n",
       "      <td>0.17</td>\n",
       "      <td>-120.00</td>\n",
       "      <td>0.00</td>\n",
       "      <td>0.0</td>\n",
       "    </tr>\n",
       "    <tr>\n",
       "      <th>20700</th>\n",
       "      <td>02/24/2017 12:38:17 AM</td>\n",
       "      <td>02/24/2017 12:42:05 AM</td>\n",
       "      <td>Cash</td>\n",
       "      <td>1</td>\n",
       "      <td>0.70</td>\n",
       "      <td>-4.50</td>\n",
       "      <td>0.00</td>\n",
       "      <td>0.0</td>\n",
       "    </tr>\n",
       "    <tr>\n",
       "      <th>11206</th>\n",
       "      <td>07/09/2017 7:20:59 AM</td>\n",
       "      <td>07/09/2017 7:23:50 AM</td>\n",
       "      <td>Debit Card</td>\n",
       "      <td>1</td>\n",
       "      <td>0.64</td>\n",
       "      <td>-4.50</td>\n",
       "      <td>0.00</td>\n",
       "      <td>0.0</td>\n",
       "    </tr>\n",
       "    <tr>\n",
       "      <th>14716</th>\n",
       "      <td>12/24/2017 10:37:58 PM</td>\n",
       "      <td>12/24/2017 10:41:08 PM</td>\n",
       "      <td>Debit Card</td>\n",
       "      <td>5</td>\n",
       "      <td>0.40</td>\n",
       "      <td>-4.00</td>\n",
       "      <td>0.00</td>\n",
       "      <td>0.0</td>\n",
       "    </tr>\n",
       "    <tr>\n",
       "      <th>17604</th>\n",
       "      <td>03/24/2017 7:31:13 PM</td>\n",
       "      <td>03/24/2017 7:34:49 PM</td>\n",
       "      <td>Cash</td>\n",
       "      <td>1</td>\n",
       "      <td>0.46</td>\n",
       "      <td>-4.00</td>\n",
       "      <td>0.00</td>\n",
       "      <td>0.0</td>\n",
       "    </tr>\n",
       "    <tr>\n",
       "      <th>8206</th>\n",
       "      <td>10/28/2017 8:39:36 PM</td>\n",
       "      <td>10/28/2017 8:41:59 PM</td>\n",
       "      <td>Credit Card</td>\n",
       "      <td>1</td>\n",
       "      <td>0.41</td>\n",
       "      <td>-3.50</td>\n",
       "      <td>0.00</td>\n",
       "      <td>0.0</td>\n",
       "    </tr>\n",
       "    <tr>\n",
       "      <th>20319</th>\n",
       "      <td>09/09/2017 10:59:51 PM</td>\n",
       "      <td>09/09/2017 11:02:06 PM</td>\n",
       "      <td>Debit Card</td>\n",
       "      <td>1</td>\n",
       "      <td>0.24</td>\n",
       "      <td>-3.50</td>\n",
       "      <td>0.00</td>\n",
       "      <td>0.0</td>\n",
       "    </tr>\n",
       "    <tr>\n",
       "      <th>5450</th>\n",
       "      <td>04/06/2017 12:50:26 PM</td>\n",
       "      <td>04/06/2017 12:52:39 PM</td>\n",
       "      <td>Debit Card</td>\n",
       "      <td>1</td>\n",
       "      <td>0.25</td>\n",
       "      <td>-3.50</td>\n",
       "      <td>0.00</td>\n",
       "      <td>0.0</td>\n",
       "    </tr>\n",
       "    <tr>\n",
       "      <th>4425</th>\n",
       "      <td>11/16/2017 8:13:30 PM</td>\n",
       "      <td>11/16/2017 8:14:50 PM</td>\n",
       "      <td>Cash</td>\n",
       "      <td>2</td>\n",
       "      <td>0.06</td>\n",
       "      <td>-3.00</td>\n",
       "      <td>0.00</td>\n",
       "      <td>0.0</td>\n",
       "    </tr>\n",
       "    <tr>\n",
       "      <th>18567</th>\n",
       "      <td>05/22/2017 3:51:20 PM</td>\n",
       "      <td>05/22/2017 3:52:22 PM</td>\n",
       "      <td>Cash</td>\n",
       "      <td>1</td>\n",
       "      <td>0.10</td>\n",
       "      <td>-3.00</td>\n",
       "      <td>0.00</td>\n",
       "      <td>0.0</td>\n",
       "    </tr>\n",
       "    <tr>\n",
       "      <th>316</th>\n",
       "      <td>12/13/2017 2:02:39 AM</td>\n",
       "      <td>12/13/2017 2:03:08 AM</td>\n",
       "      <td>Cash</td>\n",
       "      <td>6</td>\n",
       "      <td>0.12</td>\n",
       "      <td>-2.50</td>\n",
       "      <td>0.00</td>\n",
       "      <td>0.0</td>\n",
       "    </tr>\n",
       "    <tr>\n",
       "      <th>1648</th>\n",
       "      <td>07/05/2017 11:02:23 AM</td>\n",
       "      <td>07/05/2017 11:03:00 AM</td>\n",
       "      <td>Credit Card</td>\n",
       "      <td>1</td>\n",
       "      <td>0.04</td>\n",
       "      <td>-2.50</td>\n",
       "      <td>0.00</td>\n",
       "      <td>0.0</td>\n",
       "    </tr>\n",
       "    <tr>\n",
       "      <th>5760</th>\n",
       "      <td>01/03/2017 8:15:23 PM</td>\n",
       "      <td>01/03/2017 8:15:39 PM</td>\n",
       "      <td>Debit Card</td>\n",
       "      <td>1</td>\n",
       "      <td>0.02</td>\n",
       "      <td>-2.50</td>\n",
       "      <td>0.00</td>\n",
       "      <td>0.0</td>\n",
       "    </tr>\n",
       "    <tr>\n",
       "      <th>4404</th>\n",
       "      <td>12/20/2017 4:06:53 PM</td>\n",
       "      <td>12/20/2017 4:47:50 PM</td>\n",
       "      <td>Cash</td>\n",
       "      <td>1</td>\n",
       "      <td>7.06</td>\n",
       "      <td>0.00</td>\n",
       "      <td>0.00</td>\n",
       "      <td>0.0</td>\n",
       "    </tr>\n",
       "    <tr>\n",
       "      <th>19069</th>\n",
       "      <td>07/10/2017 2:40:09 PM</td>\n",
       "      <td>07/10/2017 2:40:59 PM</td>\n",
       "      <td>Cash</td>\n",
       "      <td>1</td>\n",
       "      <td>0.10</td>\n",
       "      <td>0.00</td>\n",
       "      <td>0.00</td>\n",
       "      <td>0.0</td>\n",
       "    </tr>\n",
       "    <tr>\n",
       "      <th>21844</th>\n",
       "      <td>04/18/2017 4:55:29 PM</td>\n",
       "      <td>04/18/2017 6:29:44 PM</td>\n",
       "      <td>Cash</td>\n",
       "      <td>2</td>\n",
       "      <td>20.40</td>\n",
       "      <td>0.00</td>\n",
       "      <td>0.00</td>\n",
       "      <td>12.5</td>\n",
       "    </tr>\n",
       "    <tr>\n",
       "      <th>4063</th>\n",
       "      <td>08/12/2017 8:49:29 PM</td>\n",
       "      <td>08/12/2017 9:18:50 PM</td>\n",
       "      <td>Cash</td>\n",
       "      <td>4</td>\n",
       "      <td>4.50</td>\n",
       "      <td>0.01</td>\n",
       "      <td>0.00</td>\n",
       "      <td>10.5</td>\n",
       "    </tr>\n",
       "    <tr>\n",
       "      <th>3084</th>\n",
       "      <td>03/29/2017 1:18:51 PM</td>\n",
       "      <td>03/29/2017 1:19:09 PM</td>\n",
       "      <td>Cash</td>\n",
       "      <td>1</td>\n",
       "      <td>0.07</td>\n",
       "      <td>2.50</td>\n",
       "      <td>0.66</td>\n",
       "      <td>0.0</td>\n",
       "    </tr>\n",
       "    <tr>\n",
       "      <th>3160</th>\n",
       "      <td>03/16/2017 5:51:31 AM</td>\n",
       "      <td>03/16/2017 5:51:43 AM</td>\n",
       "      <td>Cash</td>\n",
       "      <td>1</td>\n",
       "      <td>0.03</td>\n",
       "      <td>2.50</td>\n",
       "      <td>0.00</td>\n",
       "      <td>0.0</td>\n",
       "    </tr>\n",
       "    <tr>\n",
       "      <th>21595</th>\n",
       "      <td>04/14/2017 9:18:30 PM</td>\n",
       "      <td>04/14/2017 9:18:32 PM</td>\n",
       "      <td>Credit Card</td>\n",
       "      <td>1</td>\n",
       "      <td>1.20</td>\n",
       "      <td>2.50</td>\n",
       "      <td>0.00</td>\n",
       "      <td>0.0</td>\n",
       "    </tr>\n",
       "    <tr>\n",
       "      <th>325</th>\n",
       "      <td>01/14/2017 7:04:51 PM</td>\n",
       "      <td>01/14/2017 7:05:01 PM</td>\n",
       "      <td>Cash</td>\n",
       "      <td>2</td>\n",
       "      <td>0.02</td>\n",
       "      <td>2.50</td>\n",
       "      <td>0.00</td>\n",
       "      <td>0.0</td>\n",
       "    </tr>\n",
       "    <tr>\n",
       "      <th>19371</th>\n",
       "      <td>03/24/2017 8:59:58 PM</td>\n",
       "      <td>03/24/2017 9:00:06 PM</td>\n",
       "      <td>Cash</td>\n",
       "      <td>1</td>\n",
       "      <td>0.02</td>\n",
       "      <td>2.50</td>\n",
       "      <td>7.00</td>\n",
       "      <td>0.0</td>\n",
       "    </tr>\n",
       "    <tr>\n",
       "      <th>3736</th>\n",
       "      <td>02/20/2017 4:58:03 PM</td>\n",
       "      <td>02/20/2017 4:58:15 PM</td>\n",
       "      <td>Cash</td>\n",
       "      <td>1</td>\n",
       "      <td>0.60</td>\n",
       "      <td>2.50</td>\n",
       "      <td>0.00</td>\n",
       "      <td>0.0</td>\n",
       "    </tr>\n",
       "    <tr>\n",
       "      <th>17236</th>\n",
       "      <td>02/21/2017 10:19:02 PM</td>\n",
       "      <td>02/21/2017 10:19:50 PM</td>\n",
       "      <td>Debit Card</td>\n",
       "      <td>1</td>\n",
       "      <td>0.10</td>\n",
       "      <td>2.50</td>\n",
       "      <td>0.00</td>\n",
       "      <td>0.0</td>\n",
       "    </tr>\n",
       "    <tr>\n",
       "      <th>16343</th>\n",
       "      <td>08/06/2017 2:56:13 PM</td>\n",
       "      <td>08/06/2017 2:56:32 PM</td>\n",
       "      <td>Cash</td>\n",
       "      <td>1</td>\n",
       "      <td>0.10</td>\n",
       "      <td>2.50</td>\n",
       "      <td>0.00</td>\n",
       "      <td>0.0</td>\n",
       "    </tr>\n",
       "  </tbody>\n",
       "</table>\n",
       "</div>"
      ],
      "text/plain": [
       "         tpep_pickup_datetime   tpep_dropoff_datetime payment_method  \\\n",
       "12946  04/08/2017 12:00:16 AM  04/08/2017 11:15:57 PM           Cash   \n",
       "20700  02/24/2017 12:38:17 AM  02/24/2017 12:42:05 AM           Cash   \n",
       "11206   07/09/2017 7:20:59 AM   07/09/2017 7:23:50 AM     Debit Card   \n",
       "14716  12/24/2017 10:37:58 PM  12/24/2017 10:41:08 PM     Debit Card   \n",
       "17604   03/24/2017 7:31:13 PM   03/24/2017 7:34:49 PM           Cash   \n",
       "8206    10/28/2017 8:39:36 PM   10/28/2017 8:41:59 PM    Credit Card   \n",
       "20319  09/09/2017 10:59:51 PM  09/09/2017 11:02:06 PM     Debit Card   \n",
       "5450   04/06/2017 12:50:26 PM  04/06/2017 12:52:39 PM     Debit Card   \n",
       "4425    11/16/2017 8:13:30 PM   11/16/2017 8:14:50 PM           Cash   \n",
       "18567   05/22/2017 3:51:20 PM   05/22/2017 3:52:22 PM           Cash   \n",
       "316     12/13/2017 2:02:39 AM   12/13/2017 2:03:08 AM           Cash   \n",
       "1648   07/05/2017 11:02:23 AM  07/05/2017 11:03:00 AM    Credit Card   \n",
       "5760    01/03/2017 8:15:23 PM   01/03/2017 8:15:39 PM     Debit Card   \n",
       "4404    12/20/2017 4:06:53 PM   12/20/2017 4:47:50 PM           Cash   \n",
       "19069   07/10/2017 2:40:09 PM   07/10/2017 2:40:59 PM           Cash   \n",
       "21844   04/18/2017 4:55:29 PM   04/18/2017 6:29:44 PM           Cash   \n",
       "4063    08/12/2017 8:49:29 PM   08/12/2017 9:18:50 PM           Cash   \n",
       "3084    03/29/2017 1:18:51 PM   03/29/2017 1:19:09 PM           Cash   \n",
       "3160    03/16/2017 5:51:31 AM   03/16/2017 5:51:43 AM           Cash   \n",
       "21595   04/14/2017 9:18:30 PM   04/14/2017 9:18:32 PM    Credit Card   \n",
       "325     01/14/2017 7:04:51 PM   01/14/2017 7:05:01 PM           Cash   \n",
       "19371   03/24/2017 8:59:58 PM   03/24/2017 9:00:06 PM           Cash   \n",
       "3736    02/20/2017 4:58:03 PM   02/20/2017 4:58:15 PM           Cash   \n",
       "17236  02/21/2017 10:19:02 PM  02/21/2017 10:19:50 PM     Debit Card   \n",
       "16343   08/06/2017 2:56:13 PM   08/06/2017 2:56:32 PM           Cash   \n",
       "\n",
       "       passenger_count  trip_distance  fare_amount  tip_amount  tolls_amount  \n",
       "12946                1           0.17      -120.00        0.00           0.0  \n",
       "20700                1           0.70        -4.50        0.00           0.0  \n",
       "11206                1           0.64        -4.50        0.00           0.0  \n",
       "14716                5           0.40        -4.00        0.00           0.0  \n",
       "17604                1           0.46        -4.00        0.00           0.0  \n",
       "8206                 1           0.41        -3.50        0.00           0.0  \n",
       "20319                1           0.24        -3.50        0.00           0.0  \n",
       "5450                 1           0.25        -3.50        0.00           0.0  \n",
       "4425                 2           0.06        -3.00        0.00           0.0  \n",
       "18567                1           0.10        -3.00        0.00           0.0  \n",
       "316                  6           0.12        -2.50        0.00           0.0  \n",
       "1648                 1           0.04        -2.50        0.00           0.0  \n",
       "5760                 1           0.02        -2.50        0.00           0.0  \n",
       "4404                 1           7.06         0.00        0.00           0.0  \n",
       "19069                1           0.10         0.00        0.00           0.0  \n",
       "21844                2          20.40         0.00        0.00          12.5  \n",
       "4063                 4           4.50         0.01        0.00          10.5  \n",
       "3084                 1           0.07         2.50        0.66           0.0  \n",
       "3160                 1           0.03         2.50        0.00           0.0  \n",
       "21595                1           1.20         2.50        0.00           0.0  \n",
       "325                  2           0.02         2.50        0.00           0.0  \n",
       "19371                1           0.02         2.50        7.00           0.0  \n",
       "3736                 1           0.60         2.50        0.00           0.0  \n",
       "17236                1           0.10         2.50        0.00           0.0  \n",
       "16343                1           0.10         2.50        0.00           0.0  "
      ]
     },
     "execution_count": 310,
     "metadata": {},
     "output_type": "execute_result"
    }
   ],
   "source": [
    "# fare_amount 오름차순 값 확인\n",
    "\n",
    "data.sort_values('fare_amount').head(25)"
   ]
  },
  {
   "cell_type": "code",
   "execution_count": 311,
   "id": "c881bdcf",
   "metadata": {},
   "outputs": [],
   "source": [
    "# fare_amount가 0 이하인 경우는 이상하므로 삭제\n",
    "# 0.01인 경우 trip_distance도 4.5 정도였는데 요금이 0.01인 건 어색함\n",
    "\n",
    "data = data[data['fare_amount'] > 0.01]"
   ]
  },
  {
   "cell_type": "code",
   "execution_count": 312,
   "id": "50cf8c3c",
   "metadata": {
    "scrolled": false
   },
   "outputs": [
    {
     "data": {
      "text/html": [
       "<div>\n",
       "<style scoped>\n",
       "    .dataframe tbody tr th:only-of-type {\n",
       "        vertical-align: middle;\n",
       "    }\n",
       "\n",
       "    .dataframe tbody tr th {\n",
       "        vertical-align: top;\n",
       "    }\n",
       "\n",
       "    .dataframe thead th {\n",
       "        text-align: right;\n",
       "    }\n",
       "</style>\n",
       "<table border=\"1\" class=\"dataframe\">\n",
       "  <thead>\n",
       "    <tr style=\"text-align: right;\">\n",
       "      <th></th>\n",
       "      <th>tpep_pickup_datetime</th>\n",
       "      <th>tpep_dropoff_datetime</th>\n",
       "      <th>payment_method</th>\n",
       "      <th>passenger_count</th>\n",
       "      <th>trip_distance</th>\n",
       "      <th>fare_amount</th>\n",
       "      <th>tip_amount</th>\n",
       "      <th>tolls_amount</th>\n",
       "    </tr>\n",
       "  </thead>\n",
       "  <tbody>\n",
       "    <tr>\n",
       "      <th>8478</th>\n",
       "      <td>02/06/2017 5:50:10 AM</td>\n",
       "      <td>02/06/2017 5:51:08 AM</td>\n",
       "      <td>Credit Card</td>\n",
       "      <td>1</td>\n",
       "      <td>2.60</td>\n",
       "      <td>999.99</td>\n",
       "      <td>200.00</td>\n",
       "      <td>0.00</td>\n",
       "    </tr>\n",
       "    <tr>\n",
       "      <th>13863</th>\n",
       "      <td>05/19/2017 8:20:21 AM</td>\n",
       "      <td>05/19/2017 9:20:30 AM</td>\n",
       "      <td>Credit Card</td>\n",
       "      <td>1</td>\n",
       "      <td>33.92</td>\n",
       "      <td>200.01</td>\n",
       "      <td>51.64</td>\n",
       "      <td>5.76</td>\n",
       "    </tr>\n",
       "    <tr>\n",
       "      <th>3584</th>\n",
       "      <td>01/01/2017 11:53:01 PM</td>\n",
       "      <td>01/01/2017 11:53:42 PM</td>\n",
       "      <td>Credit Card</td>\n",
       "      <td>1</td>\n",
       "      <td>7.30</td>\n",
       "      <td>152.00</td>\n",
       "      <td>0.00</td>\n",
       "      <td>0.00</td>\n",
       "    </tr>\n",
       "    <tr>\n",
       "      <th>9282</th>\n",
       "      <td>06/18/2017 11:33:25 PM</td>\n",
       "      <td>06/19/2017 12:12:38 AM</td>\n",
       "      <td>Cash</td>\n",
       "      <td>2</td>\n",
       "      <td>33.96</td>\n",
       "      <td>150.00</td>\n",
       "      <td>0.00</td>\n",
       "      <td>0.00</td>\n",
       "    </tr>\n",
       "    <tr>\n",
       "      <th>16381</th>\n",
       "      <td>11/30/2017 10:41:11 AM</td>\n",
       "      <td>11/30/2017 11:31:45 AM</td>\n",
       "      <td>Cash</td>\n",
       "      <td>1</td>\n",
       "      <td>25.50</td>\n",
       "      <td>140.00</td>\n",
       "      <td>0.00</td>\n",
       "      <td>16.26</td>\n",
       "    </tr>\n",
       "    <tr>\n",
       "      <th>10293</th>\n",
       "      <td>09/11/2017 11:41:04 AM</td>\n",
       "      <td>09/11/2017 12:18:58 PM</td>\n",
       "      <td>Cash</td>\n",
       "      <td>1</td>\n",
       "      <td>31.95</td>\n",
       "      <td>131.00</td>\n",
       "      <td>0.00</td>\n",
       "      <td>0.00</td>\n",
       "    </tr>\n",
       "    <tr>\n",
       "      <th>1930</th>\n",
       "      <td>06/16/2017 6:30:08 PM</td>\n",
       "      <td>06/16/2017 7:18:50 PM</td>\n",
       "      <td>Debit Card</td>\n",
       "      <td>2</td>\n",
       "      <td>12.50</td>\n",
       "      <td>120.00</td>\n",
       "      <td>5.00</td>\n",
       "      <td>12.50</td>\n",
       "    </tr>\n",
       "    <tr>\n",
       "      <th>6066</th>\n",
       "      <td>06/13/2017 12:30:22 PM</td>\n",
       "      <td>06/13/2017 1:37:51 PM</td>\n",
       "      <td>Debit Card</td>\n",
       "      <td>1</td>\n",
       "      <td>32.72</td>\n",
       "      <td>107.00</td>\n",
       "      <td>55.50</td>\n",
       "      <td>16.26</td>\n",
       "    </tr>\n",
       "    <tr>\n",
       "      <th>13623</th>\n",
       "      <td>11/04/2017 1:32:14 PM</td>\n",
       "      <td>11/04/2017 2:18:50 PM</td>\n",
       "      <td>Debit Card</td>\n",
       "      <td>2</td>\n",
       "      <td>19.80</td>\n",
       "      <td>105.00</td>\n",
       "      <td>8.00</td>\n",
       "      <td>2.64</td>\n",
       "    </tr>\n",
       "    <tr>\n",
       "      <th>6710</th>\n",
       "      <td>10/30/2017 11:23:46 AM</td>\n",
       "      <td>10/30/2017 11:23:49 AM</td>\n",
       "      <td>Credit Card</td>\n",
       "      <td>1</td>\n",
       "      <td>0.32</td>\n",
       "      <td>100.00</td>\n",
       "      <td>25.20</td>\n",
       "      <td>0.00</td>\n",
       "    </tr>\n",
       "  </tbody>\n",
       "</table>\n",
       "</div>"
      ],
      "text/plain": [
       "         tpep_pickup_datetime   tpep_dropoff_datetime payment_method  \\\n",
       "8478    02/06/2017 5:50:10 AM   02/06/2017 5:51:08 AM    Credit Card   \n",
       "13863   05/19/2017 8:20:21 AM   05/19/2017 9:20:30 AM    Credit Card   \n",
       "3584   01/01/2017 11:53:01 PM  01/01/2017 11:53:42 PM    Credit Card   \n",
       "9282   06/18/2017 11:33:25 PM  06/19/2017 12:12:38 AM           Cash   \n",
       "16381  11/30/2017 10:41:11 AM  11/30/2017 11:31:45 AM           Cash   \n",
       "10293  09/11/2017 11:41:04 AM  09/11/2017 12:18:58 PM           Cash   \n",
       "1930    06/16/2017 6:30:08 PM   06/16/2017 7:18:50 PM     Debit Card   \n",
       "6066   06/13/2017 12:30:22 PM   06/13/2017 1:37:51 PM     Debit Card   \n",
       "13623   11/04/2017 1:32:14 PM   11/04/2017 2:18:50 PM     Debit Card   \n",
       "6710   10/30/2017 11:23:46 AM  10/30/2017 11:23:49 AM    Credit Card   \n",
       "\n",
       "       passenger_count  trip_distance  fare_amount  tip_amount  tolls_amount  \n",
       "8478                 1           2.60       999.99      200.00          0.00  \n",
       "13863                1          33.92       200.01       51.64          5.76  \n",
       "3584                 1           7.30       152.00        0.00          0.00  \n",
       "9282                 2          33.96       150.00        0.00          0.00  \n",
       "16381                1          25.50       140.00        0.00         16.26  \n",
       "10293                1          31.95       131.00        0.00          0.00  \n",
       "1930                 2          12.50       120.00        5.00         12.50  \n",
       "6066                 1          32.72       107.00       55.50         16.26  \n",
       "13623                2          19.80       105.00        8.00          2.64  \n",
       "6710                 1           0.32       100.00       25.20          0.00  "
      ]
     },
     "execution_count": 312,
     "metadata": {},
     "output_type": "execute_result"
    }
   ],
   "source": [
    "# fare_amount 내림차순 값 확인\n",
    "# trip_distance 이동거리가 작은데도, fare_amount가 999달러인 건 이상치로 보인다.\n",
    "\n",
    "data.sort_values('fare_amount', ascending=False).head(10)"
   ]
  },
  {
   "cell_type": "code",
   "execution_count": 313,
   "id": "a8dfa6de",
   "metadata": {},
   "outputs": [],
   "source": [
    "# trip_distance 이동거리가 작은데도, fare_amount가 999달러인 건 이상치 같으므로 삭제\n",
    "\n",
    "data = data[data['fare_amount'] < 999.99]"
   ]
  },
  {
   "cell_type": "markdown",
   "id": "c84bf04d",
   "metadata": {},
   "source": [
    "<br/><br/>\n",
    "# 중복 데이터 처리\n",
    "<br/><br/>"
   ]
  },
  {
   "cell_type": "code",
   "execution_count": 314,
   "id": "5315084c",
   "metadata": {
    "scrolled": true
   },
   "outputs": [
    {
     "data": {
      "text/html": [
       "<div>\n",
       "<style scoped>\n",
       "    .dataframe tbody tr th:only-of-type {\n",
       "        vertical-align: middle;\n",
       "    }\n",
       "\n",
       "    .dataframe tbody tr th {\n",
       "        vertical-align: top;\n",
       "    }\n",
       "\n",
       "    .dataframe thead th {\n",
       "        text-align: right;\n",
       "    }\n",
       "</style>\n",
       "<table border=\"1\" class=\"dataframe\">\n",
       "  <thead>\n",
       "    <tr style=\"text-align: right;\">\n",
       "      <th></th>\n",
       "      <th>tpep_pickup_datetime</th>\n",
       "      <th>tpep_dropoff_datetime</th>\n",
       "      <th>payment_method</th>\n",
       "      <th>passenger_count</th>\n",
       "      <th>trip_distance</th>\n",
       "      <th>fare_amount</th>\n",
       "      <th>tip_amount</th>\n",
       "      <th>tolls_amount</th>\n",
       "    </tr>\n",
       "  </thead>\n",
       "  <tbody>\n",
       "    <tr>\n",
       "      <th>17</th>\n",
       "      <td>08/15/2017 7:48:08 PM</td>\n",
       "      <td>08/15/2017 8:00:37 PM</td>\n",
       "      <td>Cash</td>\n",
       "      <td>1</td>\n",
       "      <td>3.6</td>\n",
       "      <td>12.5</td>\n",
       "      <td>2.85</td>\n",
       "      <td>0.0</td>\n",
       "    </tr>\n",
       "    <tr>\n",
       "      <th>204</th>\n",
       "      <td>02/13/2017 4:25:41 PM</td>\n",
       "      <td>02/13/2017 4:55:35 PM</td>\n",
       "      <td>Cash</td>\n",
       "      <td>1</td>\n",
       "      <td>4.2</td>\n",
       "      <td>21.0</td>\n",
       "      <td>0.00</td>\n",
       "      <td>0.0</td>\n",
       "    </tr>\n",
       "  </tbody>\n",
       "</table>\n",
       "</div>"
      ],
      "text/plain": [
       "      tpep_pickup_datetime  tpep_dropoff_datetime payment_method  \\\n",
       "17   08/15/2017 7:48:08 PM  08/15/2017 8:00:37 PM           Cash   \n",
       "204  02/13/2017 4:25:41 PM  02/13/2017 4:55:35 PM           Cash   \n",
       "\n",
       "     passenger_count  trip_distance  fare_amount  tip_amount  tolls_amount  \n",
       "17                 1            3.6         12.5        2.85           0.0  \n",
       "204                1            4.2         21.0        0.00           0.0  "
      ]
     },
     "execution_count": 314,
     "metadata": {},
     "output_type": "execute_result"
    }
   ],
   "source": [
    "# 중복 데이터 행이 있는지 확인\n",
    "data[data.duplicated()]"
   ]
  },
  {
   "cell_type": "code",
   "execution_count": 315,
   "id": "2e869d77",
   "metadata": {},
   "outputs": [
    {
     "data": {
      "text/html": [
       "<div>\n",
       "<style scoped>\n",
       "    .dataframe tbody tr th:only-of-type {\n",
       "        vertical-align: middle;\n",
       "    }\n",
       "\n",
       "    .dataframe tbody tr th {\n",
       "        vertical-align: top;\n",
       "    }\n",
       "\n",
       "    .dataframe thead th {\n",
       "        text-align: right;\n",
       "    }\n",
       "</style>\n",
       "<table border=\"1\" class=\"dataframe\">\n",
       "  <thead>\n",
       "    <tr style=\"text-align: right;\">\n",
       "      <th></th>\n",
       "      <th>tpep_pickup_datetime</th>\n",
       "      <th>tpep_dropoff_datetime</th>\n",
       "      <th>payment_method</th>\n",
       "      <th>passenger_count</th>\n",
       "      <th>trip_distance</th>\n",
       "      <th>fare_amount</th>\n",
       "      <th>tip_amount</th>\n",
       "      <th>tolls_amount</th>\n",
       "    </tr>\n",
       "  </thead>\n",
       "  <tbody>\n",
       "    <tr>\n",
       "      <th>0</th>\n",
       "      <td>03/25/2017 8:55:43 AM</td>\n",
       "      <td>03/25/2017 9:09:47 AM</td>\n",
       "      <td>Debit Card</td>\n",
       "      <td>6</td>\n",
       "      <td>3.34</td>\n",
       "      <td>13.0</td>\n",
       "      <td>2.76</td>\n",
       "      <td>0.00</td>\n",
       "    </tr>\n",
       "    <tr>\n",
       "      <th>1</th>\n",
       "      <td>04/11/2017 2:53:28 PM</td>\n",
       "      <td>04/11/2017 3:19:58 PM</td>\n",
       "      <td>Debit Card</td>\n",
       "      <td>1</td>\n",
       "      <td>1.80</td>\n",
       "      <td>16.0</td>\n",
       "      <td>4.00</td>\n",
       "      <td>0.00</td>\n",
       "    </tr>\n",
       "    <tr>\n",
       "      <th>2</th>\n",
       "      <td>12/15/2017 7:26:56 AM</td>\n",
       "      <td>12/15/2017 7:34:08 AM</td>\n",
       "      <td>Debit Card</td>\n",
       "      <td>1</td>\n",
       "      <td>1.00</td>\n",
       "      <td>6.5</td>\n",
       "      <td>1.45</td>\n",
       "      <td>0.00</td>\n",
       "    </tr>\n",
       "    <tr>\n",
       "      <th>3</th>\n",
       "      <td>05/07/2017 1:17:59 PM</td>\n",
       "      <td>05/07/2017 1:48:14 PM</td>\n",
       "      <td>Cash</td>\n",
       "      <td>1</td>\n",
       "      <td>3.70</td>\n",
       "      <td>20.5</td>\n",
       "      <td>6.39</td>\n",
       "      <td>0.00</td>\n",
       "    </tr>\n",
       "    <tr>\n",
       "      <th>4</th>\n",
       "      <td>04/15/2017 11:32:20 PM</td>\n",
       "      <td>04/15/2017 11:49:03 PM</td>\n",
       "      <td>Debit Card</td>\n",
       "      <td>1</td>\n",
       "      <td>4.37</td>\n",
       "      <td>16.5</td>\n",
       "      <td>0.00</td>\n",
       "      <td>0.00</td>\n",
       "    </tr>\n",
       "    <tr>\n",
       "      <th>...</th>\n",
       "      <td>...</td>\n",
       "      <td>...</td>\n",
       "      <td>...</td>\n",
       "      <td>...</td>\n",
       "      <td>...</td>\n",
       "      <td>...</td>\n",
       "      <td>...</td>\n",
       "      <td>...</td>\n",
       "    </tr>\n",
       "    <tr>\n",
       "      <th>22696</th>\n",
       "      <td>02/24/2017 5:37:23 PM</td>\n",
       "      <td>02/24/2017 5:40:39 PM</td>\n",
       "      <td>Cash</td>\n",
       "      <td>3</td>\n",
       "      <td>0.61</td>\n",
       "      <td>4.0</td>\n",
       "      <td>0.00</td>\n",
       "      <td>0.00</td>\n",
       "    </tr>\n",
       "    <tr>\n",
       "      <th>22697</th>\n",
       "      <td>08/06/2017 4:43:59 PM</td>\n",
       "      <td>08/06/2017 5:24:47 PM</td>\n",
       "      <td>Cash</td>\n",
       "      <td>1</td>\n",
       "      <td>16.71</td>\n",
       "      <td>52.0</td>\n",
       "      <td>14.64</td>\n",
       "      <td>5.76</td>\n",
       "    </tr>\n",
       "    <tr>\n",
       "      <th>22698</th>\n",
       "      <td>09/04/2017 2:54:14 PM</td>\n",
       "      <td>09/04/2017 2:58:22 PM</td>\n",
       "      <td>Debit Card</td>\n",
       "      <td>1</td>\n",
       "      <td>0.42</td>\n",
       "      <td>4.5</td>\n",
       "      <td>0.00</td>\n",
       "      <td>0.00</td>\n",
       "    </tr>\n",
       "    <tr>\n",
       "      <th>22699</th>\n",
       "      <td>07/15/2017 12:56:30 PM</td>\n",
       "      <td>07/15/2017 1:08:26 PM</td>\n",
       "      <td>Debit Card</td>\n",
       "      <td>1</td>\n",
       "      <td>2.36</td>\n",
       "      <td>10.5</td>\n",
       "      <td>1.70</td>\n",
       "      <td>0.00</td>\n",
       "    </tr>\n",
       "    <tr>\n",
       "      <th>22700</th>\n",
       "      <td>03/02/2017 1:02:49 PM</td>\n",
       "      <td>03/02/2017 1:16:09 PM</td>\n",
       "      <td>Cash</td>\n",
       "      <td>1</td>\n",
       "      <td>2.10</td>\n",
       "      <td>11.0</td>\n",
       "      <td>2.35</td>\n",
       "      <td>0.00</td>\n",
       "    </tr>\n",
       "  </tbody>\n",
       "</table>\n",
       "<p>22497 rows × 8 columns</p>\n",
       "</div>"
      ],
      "text/plain": [
       "         tpep_pickup_datetime   tpep_dropoff_datetime payment_method  \\\n",
       "0       03/25/2017 8:55:43 AM   03/25/2017 9:09:47 AM     Debit Card   \n",
       "1       04/11/2017 2:53:28 PM   04/11/2017 3:19:58 PM     Debit Card   \n",
       "2       12/15/2017 7:26:56 AM   12/15/2017 7:34:08 AM     Debit Card   \n",
       "3       05/07/2017 1:17:59 PM   05/07/2017 1:48:14 PM           Cash   \n",
       "4      04/15/2017 11:32:20 PM  04/15/2017 11:49:03 PM     Debit Card   \n",
       "...                       ...                     ...            ...   \n",
       "22696   02/24/2017 5:37:23 PM   02/24/2017 5:40:39 PM           Cash   \n",
       "22697   08/06/2017 4:43:59 PM   08/06/2017 5:24:47 PM           Cash   \n",
       "22698   09/04/2017 2:54:14 PM   09/04/2017 2:58:22 PM     Debit Card   \n",
       "22699  07/15/2017 12:56:30 PM   07/15/2017 1:08:26 PM     Debit Card   \n",
       "22700   03/02/2017 1:02:49 PM   03/02/2017 1:16:09 PM           Cash   \n",
       "\n",
       "       passenger_count  trip_distance  fare_amount  tip_amount  tolls_amount  \n",
       "0                    6           3.34         13.0        2.76          0.00  \n",
       "1                    1           1.80         16.0        4.00          0.00  \n",
       "2                    1           1.00          6.5        1.45          0.00  \n",
       "3                    1           3.70         20.5        6.39          0.00  \n",
       "4                    1           4.37         16.5        0.00          0.00  \n",
       "...                ...            ...          ...         ...           ...  \n",
       "22696                3           0.61          4.0        0.00          0.00  \n",
       "22697                1          16.71         52.0       14.64          5.76  \n",
       "22698                1           0.42          4.5        0.00          0.00  \n",
       "22699                1           2.36         10.5        1.70          0.00  \n",
       "22700                1           2.10         11.0        2.35          0.00  \n",
       "\n",
       "[22497 rows x 8 columns]"
      ]
     },
     "execution_count": 315,
     "metadata": {},
     "output_type": "execute_result"
    }
   ],
   "source": [
    "# 중복 데이터 행 삭제\n",
    "data.drop_duplicates()"
   ]
  },
  {
   "cell_type": "markdown",
   "id": "a4975325",
   "metadata": {},
   "source": [
    "<br/><br/>\n",
    "# 데이터 형태 변환 처리\n",
    "\n",
    "1. payment_method의 값에서 'Credit Card'와 'Debit Card'를 'Card'로 통합\n",
    "\n",
    "2. tpep_pickup_datetime, tpep_dropoff_datetime을 datetime으로 변환\n",
    "\n",
    "3. 택시 요금 예측을 위한 주행 시간 컬럼 travel_time_sec(초 단위 주행 시간) 추가\n",
    "\n",
    "<br/><br/>"
   ]
  },
  {
   "cell_type": "code",
   "execution_count": 322,
   "id": "4cd188b7",
   "metadata": {},
   "outputs": [],
   "source": [
    "# payment_method의 값에서 'Credit Card'와 'Debit Card'를 'Card'로 통합\n",
    "\n",
    "data['payment_method'] = data['payment_method'].replace({'Debit Card': 'Card', 'Credit Card': 'Card'})"
   ]
  },
  {
   "cell_type": "code",
   "execution_count": 316,
   "id": "6e15dd5c",
   "metadata": {},
   "outputs": [
    {
     "name": "stdout",
     "output_type": "stream",
     "text": [
      "<class 'pandas.core.frame.DataFrame'>\n",
      "Int64Index: 22499 entries, 0 to 22700\n",
      "Data columns (total 8 columns):\n",
      " #   Column                 Non-Null Count  Dtype  \n",
      "---  ------                 --------------  -----  \n",
      " 0   tpep_pickup_datetime   22499 non-null  object \n",
      " 1   tpep_dropoff_datetime  22499 non-null  object \n",
      " 2   payment_method         22499 non-null  object \n",
      " 3   passenger_count        22499 non-null  int64  \n",
      " 4   trip_distance          22499 non-null  float64\n",
      " 5   fare_amount            22499 non-null  float64\n",
      " 6   tip_amount             22499 non-null  float64\n",
      " 7   tolls_amount           22499 non-null  float64\n",
      "dtypes: float64(4), int64(1), object(3)\n",
      "memory usage: 1.5+ MB\n"
     ]
    }
   ],
   "source": [
    "# 데이터 타입 확인\n",
    "\n",
    "data.info()"
   ]
  },
  {
   "cell_type": "code",
   "execution_count": 317,
   "id": "183f89c5",
   "metadata": {},
   "outputs": [
    {
     "data": {
      "text/html": [
       "<div>\n",
       "<style scoped>\n",
       "    .dataframe tbody tr th:only-of-type {\n",
       "        vertical-align: middle;\n",
       "    }\n",
       "\n",
       "    .dataframe tbody tr th {\n",
       "        vertical-align: top;\n",
       "    }\n",
       "\n",
       "    .dataframe thead th {\n",
       "        text-align: right;\n",
       "    }\n",
       "</style>\n",
       "<table border=\"1\" class=\"dataframe\">\n",
       "  <thead>\n",
       "    <tr style=\"text-align: right;\">\n",
       "      <th></th>\n",
       "      <th>tpep_pickup_datetime</th>\n",
       "      <th>tpep_dropoff_datetime</th>\n",
       "      <th>payment_method</th>\n",
       "      <th>passenger_count</th>\n",
       "      <th>trip_distance</th>\n",
       "      <th>fare_amount</th>\n",
       "      <th>tip_amount</th>\n",
       "      <th>tolls_amount</th>\n",
       "    </tr>\n",
       "  </thead>\n",
       "  <tbody>\n",
       "    <tr>\n",
       "      <th>0</th>\n",
       "      <td>03/25/2017 8:55:43 AM</td>\n",
       "      <td>03/25/2017 9:09:47 AM</td>\n",
       "      <td>Debit Card</td>\n",
       "      <td>6</td>\n",
       "      <td>3.34</td>\n",
       "      <td>13.0</td>\n",
       "      <td>2.76</td>\n",
       "      <td>0.0</td>\n",
       "    </tr>\n",
       "    <tr>\n",
       "      <th>1</th>\n",
       "      <td>04/11/2017 2:53:28 PM</td>\n",
       "      <td>04/11/2017 3:19:58 PM</td>\n",
       "      <td>Debit Card</td>\n",
       "      <td>1</td>\n",
       "      <td>1.80</td>\n",
       "      <td>16.0</td>\n",
       "      <td>4.00</td>\n",
       "      <td>0.0</td>\n",
       "    </tr>\n",
       "    <tr>\n",
       "      <th>2</th>\n",
       "      <td>12/15/2017 7:26:56 AM</td>\n",
       "      <td>12/15/2017 7:34:08 AM</td>\n",
       "      <td>Debit Card</td>\n",
       "      <td>1</td>\n",
       "      <td>1.00</td>\n",
       "      <td>6.5</td>\n",
       "      <td>1.45</td>\n",
       "      <td>0.0</td>\n",
       "    </tr>\n",
       "    <tr>\n",
       "      <th>3</th>\n",
       "      <td>05/07/2017 1:17:59 PM</td>\n",
       "      <td>05/07/2017 1:48:14 PM</td>\n",
       "      <td>Cash</td>\n",
       "      <td>1</td>\n",
       "      <td>3.70</td>\n",
       "      <td>20.5</td>\n",
       "      <td>6.39</td>\n",
       "      <td>0.0</td>\n",
       "    </tr>\n",
       "    <tr>\n",
       "      <th>4</th>\n",
       "      <td>04/15/2017 11:32:20 PM</td>\n",
       "      <td>04/15/2017 11:49:03 PM</td>\n",
       "      <td>Debit Card</td>\n",
       "      <td>1</td>\n",
       "      <td>4.37</td>\n",
       "      <td>16.5</td>\n",
       "      <td>0.00</td>\n",
       "      <td>0.0</td>\n",
       "    </tr>\n",
       "  </tbody>\n",
       "</table>\n",
       "</div>"
      ],
      "text/plain": [
       "     tpep_pickup_datetime   tpep_dropoff_datetime payment_method  \\\n",
       "0   03/25/2017 8:55:43 AM   03/25/2017 9:09:47 AM     Debit Card   \n",
       "1   04/11/2017 2:53:28 PM   04/11/2017 3:19:58 PM     Debit Card   \n",
       "2   12/15/2017 7:26:56 AM   12/15/2017 7:34:08 AM     Debit Card   \n",
       "3   05/07/2017 1:17:59 PM   05/07/2017 1:48:14 PM           Cash   \n",
       "4  04/15/2017 11:32:20 PM  04/15/2017 11:49:03 PM     Debit Card   \n",
       "\n",
       "   passenger_count  trip_distance  fare_amount  tip_amount  tolls_amount  \n",
       "0                6           3.34         13.0        2.76           0.0  \n",
       "1                1           1.80         16.0        4.00           0.0  \n",
       "2                1           1.00          6.5        1.45           0.0  \n",
       "3                1           3.70         20.5        6.39           0.0  \n",
       "4                1           4.37         16.5        0.00           0.0  "
      ]
     },
     "execution_count": 317,
     "metadata": {},
     "output_type": "execute_result"
    }
   ],
   "source": [
    "# tpep_pickup_datetime, tpep_dropoff_datetime 값 형태 확인\n",
    "\n",
    "data.head()"
   ]
  },
  {
   "cell_type": "code",
   "execution_count": 318,
   "id": "375332ef",
   "metadata": {},
   "outputs": [],
   "source": [
    "# tpep_pickup_datetime, tpep_dropoff_datetime의 타입을 datetime으로 변경\n",
    "\n",
    "data['tpep_pickup_datetime'] = pd.to_datetime(data['tpep_pickup_datetime'])\n",
    "data['tpep_dropoff_datetime'] = pd.to_datetime(data['tpep_dropoff_datetime'])"
   ]
  },
  {
   "cell_type": "code",
   "execution_count": 319,
   "id": "4759b1e3",
   "metadata": {
    "scrolled": true
   },
   "outputs": [
    {
     "name": "stdout",
     "output_type": "stream",
     "text": [
      "<class 'pandas.core.frame.DataFrame'>\n",
      "Int64Index: 22499 entries, 0 to 22700\n",
      "Data columns (total 8 columns):\n",
      " #   Column                 Non-Null Count  Dtype         \n",
      "---  ------                 --------------  -----         \n",
      " 0   tpep_pickup_datetime   22499 non-null  datetime64[ns]\n",
      " 1   tpep_dropoff_datetime  22499 non-null  datetime64[ns]\n",
      " 2   payment_method         22499 non-null  object        \n",
      " 3   passenger_count        22499 non-null  int64         \n",
      " 4   trip_distance          22499 non-null  float64       \n",
      " 5   fare_amount            22499 non-null  float64       \n",
      " 6   tip_amount             22499 non-null  float64       \n",
      " 7   tolls_amount           22499 non-null  float64       \n",
      "dtypes: datetime64[ns](2), float64(4), int64(1), object(1)\n",
      "memory usage: 1.5+ MB\n"
     ]
    }
   ],
   "source": [
    "# datetime 타입으로 바뀌었는지 확인\n",
    "\n",
    "data.info()"
   ]
  },
  {
   "cell_type": "code",
   "execution_count": 327,
   "id": "f2d53beb",
   "metadata": {
    "scrolled": false
   },
   "outputs": [],
   "source": [
    "# 택시 요금 예측을 위한 주행 시간 컬럼 travel_time_sec(초 단위 주행 시간) 추가\n",
    "\n",
    "data['travel_time_sec'] = data['tpep_dropoff_datetime'] - data['tpep_pickup_datetime'] # timedelta64 타입\n",
    "data['travel_time_sec'] = data['travel_time_sec'].dt.seconds # 초 단위 차이 값"
   ]
  },
  {
   "cell_type": "markdown",
   "id": "d818f6dc",
   "metadata": {},
   "source": [
    "<br/><br/>\n",
    "# 변수간 상관 관계 확인하기\n",
    "<br/><br/>"
   ]
  },
  {
   "cell_type": "code",
   "execution_count": 326,
   "id": "b8530239",
   "metadata": {
    "scrolled": true
   },
   "outputs": [
    {
     "data": {
      "image/png": "[encoded data removed]",
      "text/plain": [
       "<Figure size 576x432 with 2 Axes>"
      ]
     },
     "metadata": {
      "needs_background": "light"
     },
     "output_type": "display_data"
    }
   ],
   "source": [
    "# 택시의 주행 시간과 주행 거리, 요금 등의 상관 관계\n",
    "corr = data.corr()\n",
    "\n",
    "# 행렬이 대각선을 기준으로 대칭이기 때문에 하단만 표시하기 위한 마스크 생성\n",
    "mask = np.zeros_like(corr) # np.zeros_like()는 0으로 가득찬 array 생성, 크기는 corr와 동일   \n",
    "mask[np.triu_indices_from(mask, k=1)] = True # array의 대각선 영역과 그 윗 부분에 True가 들어가도록 설정\n",
    "\n",
    "# 히트맵 그리기\n",
    "plt.figure(figsize=(8, 6))\n",
    "sns.heatmap(corr, mask=mask, cmap='Greys', annot=True, fmt='.2f')\n",
    "plt.show()"
   ]
  }
 ],
 "metadata": {
  "colab": {
   "provenance": [
    {
     "file_id": "1n_ohcQG6sbsX0ZKMHq-SiBLD8c8K6aQ-",
     "timestamp": 1702372947347
    }
   ]
  },
  "kernelspec": {
   "display_name": "Python 3 (ipykernel)",
   "language": "python",
   "name": "python3"
  },
  "language_info": {
   "codemirror_mode": {
    "name": "ipython",
    "version": 3
   },
   "file_extension": ".py",
   "mimetype": "text/x-python",
   "name": "python",
   "nbconvert_exporter": "python",
   "pygments_lexer": "ipython3",
   "version": "3.9.7"
  }
 },
 "nbformat": 4,
 "nbformat_minor": 5
}
